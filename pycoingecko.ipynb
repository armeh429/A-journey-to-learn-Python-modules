{
  "nbformat": 4,
  "nbformat_minor": 0,
  "metadata": {
    "colab": {
      "name": "pycoingecko.ipynb",
      "provenance": [],
      "authorship_tag": "ABX9TyNkJJ4fTTgiwAXLlORRmMCX",
      "include_colab_link": true
    },
    "kernelspec": {
      "name": "python3",
      "display_name": "Python 3"
    },
    "language_info": {
      "name": "python"
    }
  },
  "cells": [
    {
      "cell_type": "markdown",
      "metadata": {
        "id": "view-in-github",
        "colab_type": "text"
      },
      "source": [
        "<a href=\"https://colab.research.google.com/github/armeh429/A-journey-to-learn-Python-modules/blob/main/pycoingecko.ipynb\" target=\"_parent\"><img src=\"https://colab.research.google.com/assets/colab-badge.svg\" alt=\"Open In Colab\"/></a>"
      ]
    },
    {
      "cell_type": "code",
      "metadata": {
        "id": "wGD9A5Kr5_Gj"
      },
      "source": [
        "import pandas as pd"
      ],
      "execution_count": 16,
      "outputs": []
    },
    {
      "cell_type": "code",
      "metadata": {
        "colab": {
          "base_uri": "https://localhost:8080/"
        },
        "id": "XVONOajwpKGQ",
        "outputId": "1aa63113-3799-4b85-f5f5-e72b1999323a"
      },
      "source": [
        "!pip install pycoingecko\n",
        "from pycoingecko import CoinGeckoAPI\n",
        "cg = CoinGeckoAPI()"
      ],
      "execution_count": 11,
      "outputs": [
        {
          "output_type": "stream",
          "name": "stdout",
          "text": [
            "Requirement already satisfied: pycoingecko in /usr/local/lib/python3.7/dist-packages (2.2.0)\n",
            "Requirement already satisfied: requests in /usr/local/lib/python3.7/dist-packages (from pycoingecko) (2.23.0)\n",
            "Requirement already satisfied: urllib3!=1.25.0,!=1.25.1,<1.26,>=1.21.1 in /usr/local/lib/python3.7/dist-packages (from requests->pycoingecko) (1.24.3)\n",
            "Requirement already satisfied: certifi>=2017.4.17 in /usr/local/lib/python3.7/dist-packages (from requests->pycoingecko) (2021.5.30)\n",
            "Requirement already satisfied: chardet<4,>=3.0.2 in /usr/local/lib/python3.7/dist-packages (from requests->pycoingecko) (3.0.4)\n",
            "Requirement already satisfied: idna<3,>=2.5 in /usr/local/lib/python3.7/dist-packages (from requests->pycoingecko) (2.10)\n"
          ]
        }
      ]
    },
    {
      "cell_type": "code",
      "metadata": {
        "colab": {
          "base_uri": "https://localhost:8080/",
          "height": 424
        },
        "id": "BTscGggC3xHM",
        "outputId": "ba6cc851-9e3c-4011-b777-59467f432d13"
      },
      "source": [
        "bitcoin_data = cg.get_coin_market_chart_by_id(id='bitcoin', vs_currency='usd',days = 30)\n",
        "df = pd.DataFrame(data = bitcoin_data)\n",
        "df"
      ],
      "execution_count": 21,
      "outputs": [
        {
          "output_type": "execute_result",
          "data": {
            "text/html": [
              "<div>\n",
              "<style scoped>\n",
              "    .dataframe tbody tr th:only-of-type {\n",
              "        vertical-align: middle;\n",
              "    }\n",
              "\n",
              "    .dataframe tbody tr th {\n",
              "        vertical-align: top;\n",
              "    }\n",
              "\n",
              "    .dataframe thead th {\n",
              "        text-align: right;\n",
              "    }\n",
              "</style>\n",
              "<table border=\"1\" class=\"dataframe\">\n",
              "  <thead>\n",
              "    <tr style=\"text-align: right;\">\n",
              "      <th></th>\n",
              "      <th>prices</th>\n",
              "      <th>market_caps</th>\n",
              "      <th>total_volumes</th>\n",
              "    </tr>\n",
              "  </thead>\n",
              "  <tbody>\n",
              "    <tr>\n",
              "      <th>0</th>\n",
              "      <td>[1631962954642, 48681.11950688954]</td>\n",
              "      <td>[1631962954642, 916142271255.9696]</td>\n",
              "      <td>[1631962954642, 28724304836.804264]</td>\n",
              "    </tr>\n",
              "    <tr>\n",
              "      <th>1</th>\n",
              "      <td>[1631966648754, 48593.85014117169]</td>\n",
              "      <td>[1631966648754, 914984043681.72]</td>\n",
              "      <td>[1631966648754, 28757315861.139015]</td>\n",
              "    </tr>\n",
              "    <tr>\n",
              "      <th>2</th>\n",
              "      <td>[1631970262025, 48450.87234962142]</td>\n",
              "      <td>[1631970262025, 911813003986.2732]</td>\n",
              "      <td>[1631970262025, 28747854174.828053]</td>\n",
              "    </tr>\n",
              "    <tr>\n",
              "      <th>3</th>\n",
              "      <td>[1631974142699, 48571.753422922404]</td>\n",
              "      <td>[1631974142699, 912717586044.3976]</td>\n",
              "      <td>[1631974142699, 28624299982.364952]</td>\n",
              "    </tr>\n",
              "    <tr>\n",
              "      <th>4</th>\n",
              "      <td>[1631977347834, 48543.345033666934]</td>\n",
              "      <td>[1631977347834, 913548271140.891]</td>\n",
              "      <td>[1631977347834, 28187601447.85051]</td>\n",
              "    </tr>\n",
              "    <tr>\n",
              "      <th>...</th>\n",
              "      <td>...</td>\n",
              "      <td>...</td>\n",
              "      <td>...</td>\n",
              "    </tr>\n",
              "    <tr>\n",
              "      <th>716</th>\n",
              "      <td>[1634537269918, 62503.0924159891]</td>\n",
              "      <td>[1634537269918, 1177236543825.0322]</td>\n",
              "      <td>[1634537269918, 32017152597.244495]</td>\n",
              "    </tr>\n",
              "    <tr>\n",
              "      <th>717</th>\n",
              "      <td>[1634541879469, 62794.042756009745]</td>\n",
              "      <td>[1634541879469, 1183479700586.7722]</td>\n",
              "      <td>[1634541879469, 33289058581.884518]</td>\n",
              "    </tr>\n",
              "    <tr>\n",
              "      <th>718</th>\n",
              "      <td>[1634544408298, 62197.351888171965]</td>\n",
              "      <td>[1634544408298, 1171804838830.4143]</td>\n",
              "      <td>[1634544408298, 33513080495.829716]</td>\n",
              "    </tr>\n",
              "    <tr>\n",
              "      <th>719</th>\n",
              "      <td>[1634547869355, 62037.87511479826]</td>\n",
              "      <td>[1634547869355, 1169231678636.8599]</td>\n",
              "      <td>[1634547869355, 34335948911.547844]</td>\n",
              "    </tr>\n",
              "    <tr>\n",
              "      <th>720</th>\n",
              "      <td>[1634552372000, 61011.36172797056]</td>\n",
              "      <td>[1634552372000, 1155748740325.0464]</td>\n",
              "      <td>[1634552372000, 35027396612.23578]</td>\n",
              "    </tr>\n",
              "  </tbody>\n",
              "</table>\n",
              "<p>721 rows × 3 columns</p>\n",
              "</div>"
            ],
            "text/plain": [
              "                                  prices  ...                        total_volumes\n",
              "0     [1631962954642, 48681.11950688954]  ...  [1631962954642, 28724304836.804264]\n",
              "1     [1631966648754, 48593.85014117169]  ...  [1631966648754, 28757315861.139015]\n",
              "2     [1631970262025, 48450.87234962142]  ...  [1631970262025, 28747854174.828053]\n",
              "3    [1631974142699, 48571.753422922404]  ...  [1631974142699, 28624299982.364952]\n",
              "4    [1631977347834, 48543.345033666934]  ...   [1631977347834, 28187601447.85051]\n",
              "..                                   ...  ...                                  ...\n",
              "716    [1634537269918, 62503.0924159891]  ...  [1634537269918, 32017152597.244495]\n",
              "717  [1634541879469, 62794.042756009745]  ...  [1634541879469, 33289058581.884518]\n",
              "718  [1634544408298, 62197.351888171965]  ...  [1634544408298, 33513080495.829716]\n",
              "719   [1634547869355, 62037.87511479826]  ...  [1634547869355, 34335948911.547844]\n",
              "720   [1634552372000, 61011.36172797056]  ...   [1634552372000, 35027396612.23578]\n",
              "\n",
              "[721 rows x 3 columns]"
            ]
          },
          "metadata": {},
          "execution_count": 21
        }
      ]
    },
    {
      "cell_type": "code",
      "metadata": {
        "id": "WikJPsEN4q5G"
      },
      "source": [
        ""
      ],
      "execution_count": null,
      "outputs": []
    }
  ]
}