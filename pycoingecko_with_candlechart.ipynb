{
  "cells": [
    {
      "cell_type": "markdown",
      "metadata": {
        "colab_type": "text",
        "id": "view-in-github"
      },
      "source": [
        "<a href=\"https://colab.research.google.com/github/armeh429/A-journey-to-learn-Python-modules/blob/main/pycoingecko_with_candlechart.ipynb\" target=\"_parent\"><img src=\"https://colab.research.google.com/assets/colab-badge.svg\" alt=\"Open In Colab\"/></a>"
      ]
    },
    {
      "cell_type": "markdown",
      "metadata": {
        "id": "1mz3xCVtAHLL"
      },
      "source": [
        "#**Introduction**\n",
        "\n",
        "An API lets two pieces of software talk to each other. Just like a function, you don’t have to know how the API works only its inputs and outputs. An essential type of API is a REST API that allows you to access resources via the internet. In this lab, we will review the Pandas Library in the context of an API, we will also review a basic REST API"
      ]
    },
    {
      "cell_type": "code",
      "execution_count": 1,
      "metadata": {
        "colab": {
          "base_uri": "https://localhost:8080/"
        },
        "id": "g_d9ilwO_yCl",
        "outputId": "afcbf6d5-9b86-4235-dc67-dccce1e89824"
      },
      "outputs": [
        {
          "name": "stdout",
          "output_type": "stream",
          "text": [
            "Collecting pycoingecko\n",
            "  Downloading pycoingecko-2.2.0-py3-none-any.whl (8.3 kB)\n",
            "Requirement already satisfied: requests in c:\\users\\mt\\anaconda3\\lib\\site-packages (from pycoingecko) (2.25.1)\n",
            "Requirement already satisfied: idna<3,>=2.5 in c:\\users\\mt\\anaconda3\\lib\\site-packages (from requests->pycoingecko) (2.10)\n",
            "Requirement already satisfied: chardet<5,>=3.0.2 in c:\\users\\mt\\anaconda3\\lib\\site-packages (from requests->pycoingecko) (4.0.0)\n",
            "Requirement already satisfied: urllib3<1.27,>=1.21.1 in c:\\users\\mt\\anaconda3\\lib\\site-packages (from requests->pycoingecko) (1.26.4)\n",
            "Requirement already satisfied: certifi>=2017.4.17 in c:\\users\\mt\\anaconda3\\lib\\site-packages (from requests->pycoingecko) (2020.12.5)\n",
            "Installing collected packages: pycoingecko\n",
            "Successfully installed pycoingecko-2.2.0\n",
            "Collecting plotly\n",
            "  Downloading plotly-5.3.1-py2.py3-none-any.whl (23.9 MB)\n",
            "Requirement already satisfied: six in c:\\users\\mt\\anaconda3\\lib\\site-packages (from plotly) (1.15.0)\n",
            "Collecting tenacity>=6.2.0\n",
            "  Downloading tenacity-8.0.1-py3-none-any.whl (24 kB)\n",
            "Installing collected packages: tenacity, plotly\n",
            "Successfully installed plotly-5.3.1 tenacity-8.0.1\n",
            "Collecting mplfinance\n",
            "  Downloading mplfinance-0.12.7a17-py3-none-any.whl (62 kB)\n",
            "Requirement already satisfied: pandas in c:\\users\\mt\\anaconda3\\lib\\site-packages (from mplfinance) (1.2.3)\n",
            "Requirement already satisfied: matplotlib in c:\\users\\mt\\anaconda3\\lib\\site-packages (from mplfinance) (3.3.4)\n",
            "Requirement already satisfied: cycler>=0.10 in c:\\users\\mt\\anaconda3\\lib\\site-packages (from matplotlib->mplfinance) (0.10.0)\n",
            "Requirement already satisfied: numpy>=1.15 in c:\\users\\mt\\anaconda3\\lib\\site-packages (from matplotlib->mplfinance) (1.19.2)\n",
            "Requirement already satisfied: pyparsing!=2.0.4,!=2.1.2,!=2.1.6,>=2.0.3 in c:\\users\\mt\\anaconda3\\lib\\site-packages (from matplotlib->mplfinance) (2.4.7)\n",
            "Requirement already satisfied: python-dateutil>=2.1 in c:\\users\\mt\\anaconda3\\lib\\site-packages (from matplotlib->mplfinance) (2.8.1)\n",
            "Requirement already satisfied: pillow>=6.2.0 in c:\\users\\mt\\anaconda3\\lib\\site-packages (from matplotlib->mplfinance) (8.2.0)\n",
            "Requirement already satisfied: kiwisolver>=1.0.1 in c:\\users\\mt\\anaconda3\\lib\\site-packages (from matplotlib->mplfinance) (1.3.1)\n",
            "Requirement already satisfied: six in c:\\users\\mt\\anaconda3\\lib\\site-packages (from cycler>=0.10->matplotlib->mplfinance) (1.15.0)\n",
            "Requirement already satisfied: pytz>=2017.3 in c:\\users\\mt\\anaconda3\\lib\\site-packages (from pandas->mplfinance) (2021.1)\n",
            "Installing collected packages: mplfinance\n",
            "Successfully installed mplfinance-0.12.7a17\n"
          ]
        }
      ],
      "source": [
        "!pip install pycoingecko\n",
        "!pip install plotly\n",
        "!pip install mplfinance"
      ]
    },
    {
      "cell_type": "markdown",
      "metadata": {
        "id": "EaxalSZcASIx"
      },
      "source": [
        "#**Pandas is an API** \n",
        "\n",
        "Pandas is actually set of software components , much of which is not even written in Python."
      ]
    },
    {
      "cell_type": "code",
      "execution_count": 3,
      "metadata": {
        "id": "tT3voldOAYKh"
      },
      "outputs": [],
      "source": [
        "import pandas as pd\n",
        "import numpy as np\n",
        "import plotly.graph_objects as go\n",
        "from plotly.offline import plot\n",
        "import matplotlib.pyplot as plt\n",
        "import datetime\n",
        "import time\n",
        "from pycoingecko import CoinGeckoAPI\n",
        "from mplfinance.original_flavor import candlestick2_ohlc"
      ]
    },
    {
      "cell_type": "markdown",
      "metadata": {
        "id": "VFUAKMyYAgDw"
      },
      "source": [
        "You create a dictionary, this is just data."
      ]
    },
    {
      "cell_type": "code",
      "execution_count": 4,
      "metadata": {
        "id": "J79l5NbpAbR5"
      },
      "outputs": [],
      "source": [
        "dict_={'a':[11,21,31],'b':[12,22,32]}"
      ]
    },
    {
      "cell_type": "markdown",
      "metadata": {
        "id": "_5ztsr3zAklx"
      },
      "source": [
        "When you create a Pandas object with the Dataframe constructor in API lingo, this is an \"instance\". The data in the dictionary is passed along to the pandas API. You then use the dataframe to communicate with the API."
      ]
    },
    {
      "cell_type": "code",
      "execution_count": 5,
      "metadata": {
        "colab": {
          "base_uri": "https://localhost:8080/"
        },
        "id": "TFdZ0KgJAjjo",
        "outputId": "5748bffc-e5d7-4c61-d61e-2d0f704d27d3"
      },
      "outputs": [
        {
          "data": {
            "text/plain": [
              "pandas.core.frame.DataFrame"
            ]
          },
          "execution_count": 5,
          "metadata": {},
          "output_type": "execute_result"
        }
      ],
      "source": [
        "df=pd.DataFrame(dict_)\n",
        "type(df)"
      ]
    },
    {
      "cell_type": "markdown",
      "metadata": {
        "id": "kYlSPSa-AttB"
      },
      "source": [
        "When you call the method head the dataframe communicates with the API displaying the first few rows of the dataframe."
      ]
    },
    {
      "cell_type": "code",
      "execution_count": 6,
      "metadata": {
        "colab": {
          "base_uri": "https://localhost:8080/",
          "height": 142
        },
        "id": "m4QzHLxoApn3",
        "outputId": "cbff6f89-6e38-421f-f50a-caa602c0d98f"
      },
      "outputs": [
        {
          "data": {
            "text/html": [
              "<div>\n",
              "<style scoped>\n",
              "    .dataframe tbody tr th:only-of-type {\n",
              "        vertical-align: middle;\n",
              "    }\n",
              "\n",
              "    .dataframe tbody tr th {\n",
              "        vertical-align: top;\n",
              "    }\n",
              "\n",
              "    .dataframe thead th {\n",
              "        text-align: right;\n",
              "    }\n",
              "</style>\n",
              "<table border=\"1\" class=\"dataframe\">\n",
              "  <thead>\n",
              "    <tr style=\"text-align: right;\">\n",
              "      <th></th>\n",
              "      <th>a</th>\n",
              "      <th>b</th>\n",
              "    </tr>\n",
              "  </thead>\n",
              "  <tbody>\n",
              "    <tr>\n",
              "      <th>0</th>\n",
              "      <td>11</td>\n",
              "      <td>12</td>\n",
              "    </tr>\n",
              "    <tr>\n",
              "      <th>1</th>\n",
              "      <td>21</td>\n",
              "      <td>22</td>\n",
              "    </tr>\n",
              "    <tr>\n",
              "      <th>2</th>\n",
              "      <td>31</td>\n",
              "      <td>32</td>\n",
              "    </tr>\n",
              "  </tbody>\n",
              "</table>\n",
              "</div>"
            ],
            "text/plain": [
              "    a   b\n",
              "0  11  12\n",
              "1  21  22\n",
              "2  31  32"
            ]
          },
          "execution_count": 6,
          "metadata": {},
          "output_type": "execute_result"
        }
      ],
      "source": [
        "df.head()"
      ]
    },
    {
      "cell_type": "markdown",
      "metadata": {
        "id": "q-ygonU0Axsh"
      },
      "source": [
        "When you call the method mean,the API will calculate the mean and return the value."
      ]
    },
    {
      "cell_type": "code",
      "execution_count": 7,
      "metadata": {
        "colab": {
          "base_uri": "https://localhost:8080/"
        },
        "id": "tvuwihEIAwof",
        "outputId": "8722da43-72cd-4871-e0d4-49f5ab28ff8a"
      },
      "outputs": [
        {
          "data": {
            "text/plain": [
              "a    21.0\n",
              "b    22.0\n",
              "dtype: float64"
            ]
          },
          "execution_count": 7,
          "metadata": {},
          "output_type": "execute_result"
        }
      ],
      "source": [
        "df.mean()"
      ]
    },
    {
      "cell_type": "markdown",
      "metadata": {
        "id": "ZdIIyzMhA8mS"
      },
      "source": [
        "#**REST APIs¶**\n",
        "\n",
        "Rest API’s function by sending a request, the request is communicated via HTTP message. The HTTP message usually contains a JSON file. This contains instructions for what operation we would like the service or resource to perform. In a similar manner, API returns a response, via an HTTP message, this response is usually contained within a JSON.\n",
        "\n",
        "Lets start off by getting the data we need. Using the get_coin_market_chart_by_id(id, vs_currency, days). id is the name of the coin you want, vs_currency is the currency you want the price in, and days is how many days back from today you want."
      ]
    },
    {
      "cell_type": "code",
      "execution_count": 8,
      "metadata": {
        "id": "zzHU3AMMA4Qo"
      },
      "outputs": [],
      "source": [
        "cg = CoinGeckoAPI()\n",
        "\n",
        "bitcoin_data = cg.get_coin_market_chart_by_id(id='bitcoin', vs_currency='usd', days=30)"
      ]
    },
    {
      "cell_type": "code",
      "execution_count": 9,
      "metadata": {
        "colab": {
          "base_uri": "https://localhost:8080/"
        },
        "id": "juHJNurTBN1H",
        "outputId": "c3bbd960-c569-442d-c992-977205245247"
      },
      "outputs": [
        {
          "data": {
            "text/plain": [
              "dict"
            ]
          },
          "execution_count": 9,
          "metadata": {},
          "output_type": "execute_result"
        }
      ],
      "source": [
        "type(bitcoin_data)"
      ]
    },
    {
      "cell_type": "markdown",
      "metadata": {
        "id": "u8q71OqwBWgC"
      },
      "source": [
        "The response we get is in the form of a JSON which includes the price, market caps, and total volumes along with timestamps for each observation. We are focused on the prices so we will select that data."
      ]
    },
    {
      "cell_type": "code",
      "execution_count": 10,
      "metadata": {
        "colab": {
          "base_uri": "https://localhost:8080/"
        },
        "id": "uyJbpVXlBSX-",
        "outputId": "2e494912-8922-4f85-9800-63278fb50b87"
      },
      "outputs": [
        {
          "data": {
            "text/plain": [
              "[[1632690026503, 43673.57143121867],\n",
              " [1632693798930, 43644.345877313324],\n",
              " [1632697649451, 43087.02144443022],\n",
              " [1632700854823, 43336.861233242744],\n",
              " [1632704403273, 43890.92814242138]]"
            ]
          },
          "execution_count": 10,
          "metadata": {},
          "output_type": "execute_result"
        }
      ],
      "source": [
        "bitcoin_price_data = bitcoin_data['prices']\n",
        "\n",
        "bitcoin_price_data[0:5]"
      ]
    },
    {
      "cell_type": "markdown",
      "metadata": {
        "id": "LY3FJol9BdBv"
      },
      "source": [
        "Finally lets turn this data into a Pandas DataFrame."
      ]
    },
    {
      "cell_type": "code",
      "execution_count": 11,
      "metadata": {
        "id": "FK7baNapBZx-"
      },
      "outputs": [],
      "source": [
        "data = pd.DataFrame(bitcoin_price_data, columns=['TimeStamp', 'Price'])"
      ]
    },
    {
      "cell_type": "markdown",
      "metadata": {
        "id": "8Y34-i1YBjbg"
      },
      "source": [
        "data = pd.DataFrame(bitcoin_price_data, columns=['TimeStamp', 'Price'])\n",
        "Now that we have the DataFrame we will convert the timestamp to datetime and save it as a column called Date. We will map our unix_to_datetime to each timestamp and convert it to a readable datetime."
      ]
    },
    {
      "cell_type": "code",
      "execution_count": 12,
      "metadata": {
        "id": "upFxVyyvBhBG"
      },
      "outputs": [],
      "source": [
        "data['date'] = data['TimeStamp'].apply(lambda d: datetime.date.fromtimestamp(d/1000.0))"
      ]
    },
    {
      "cell_type": "markdown",
      "metadata": {
        "id": "y-aLTtgJBpMZ"
      },
      "source": [
        "Using this modified dataset we can now group by the Date and find the min, max, open, and close for the candlesticks."
      ]
    },
    {
      "cell_type": "code",
      "execution_count": 13,
      "metadata": {
        "id": "bp50KSzoBmru"
      },
      "outputs": [],
      "source": [
        "candlestick_data = data.groupby(data.date, as_index=False).agg({\"Price\": ['min', 'max', 'first', 'last']})"
      ]
    },
    {
      "cell_type": "markdown",
      "metadata": {
        "id": "1YKsrnoLBtbR"
      },
      "source": [
        "Finally we are now ready to use plotly to create our Candlestick Chart."
      ]
    },
    {
      "cell_type": "code",
      "execution_count": 14,
      "metadata": {
        "colab": {
          "base_uri": "https://localhost:8080/",
          "height": 542
        },
        "id": "SAi_1I7yBsZX",
        "outputId": "18f05065-b820-42e2-d137-06bea33bf037"
      },
      "outputs": [
        {
          "data": {
            "application/vnd.plotly.v1+json": {
              "config": {
                "plotlyServerURL": "https://plot.ly"
              },
              "data": [
                {
                  "close": [
                    43145.90577483138,
                    41586.0279658699,
                    41313.87205861029,
                    43664.03250224537,
                    48006.95048741709,
                    48230.32803591043,
                    48842.92408615203,
                    49394.27992920298,
                    51421.659024552915,
                    54988.993230698354,
                    54057.36043695341,
                    54731.34292528844,
                    54673.55765876238,
                    55537.71413015851,
                    57644.52504473283,
                    55492.82188576949,
                    57211.48061712204,
                    57762.83104362115,
                    61640.46472552311,
                    61136.297485981246,
                    59902.95672683597,
                    61503.29215640341,
                    64036.90677872531,
                    66574.91134847623,
                    62705.1372884289,
                    60981.4843634978,
                    60961.74270436763,
                    60560.56493099557,
                    63038.34165270857,
                    62281.46780826973,
                    62353.96256245295
                  ],
                  "high": [
                    44346.56342448931,
                    43312.48958006078,
                    42590.87653476375,
                    44160.400900686334,
                    48006.95048741709,
                    48383.330678746366,
                    49167.26133528046,
                    49470.207921793866,
                    51421.659024552915,
                    55010.99199463939,
                    55348.36545619193,
                    55954.43265452176,
                    55378.278435649285,
                    56236.92024261591,
                    57644.52504473283,
                    57663.1656437878,
                    57211.48061712204,
                    58537.18525250825,
                    62048.252117014104,
                    62688.73584252701,
                    61469.74786855499,
                    62794.042756009745,
                    64036.90677872531,
                    67118.89194557608,
                    66424.67425933438,
                    63901.74733648885,
                    61899.45106436194,
                    61572.14043422243,
                    63917.434158466596,
                    63333.08327548281,
                    62353.96256245295
                  ],
                  "low": [
                    43035.04085986516,
                    41305.53998000157,
                    41002.93401404471,
                    41252.22943860389,
                    43423.91670029305,
                    47593.596837802856,
                    47361.10057553545,
                    47227.376386303695,
                    48982.00003341701,
                    50715.56783120456,
                    53701.37704643536,
                    53894.59599452107,
                    53957.129698884164,
                    54404.435810342075,
                    54711.86959664297,
                    55492.82188576949,
                    54767.16169723709,
                    57123.37491072625,
                    57252.346652182205,
                    60748.52793144714,
                    59902.95672683597,
                    59498.5883413694,
                    61291.182960356666,
                    63753.89685455743,
                    62705.1372884289,
                    60768.8842133217,
                    60405.151363152625,
                    60171.631919271116,
                    60921.603746009736,
                    61972.93260624749,
                    62353.96256245295
                  ],
                  "open": [
                    43673.57143121867,
                    42837.08386156408,
                    41902.98469266949,
                    41252.22943860389,
                    43429.26475291727,
                    48080.04804970277,
                    48160.43528555355,
                    48679.382134571795,
                    49126.50177136639,
                    51452.5946873283,
                    55036.1233087941,
                    54250.8138194203,
                    53957.129698884164,
                    54707.31426840086,
                    55164.192206604006,
                    57489.53439910401,
                    55555.4326268229,
                    57123.37491072625,
                    57587.85466202001,
                    62688.73584252701,
                    61237.226316436354,
                    59498.5883413694,
                    61291.182960356666,
                    64071.37637300845,
                    66318.12739285495,
                    62978.45769658165,
                    60882.921197883436,
                    61091.80172807144,
                    61315.38278642506,
                    62891.77565942479,
                    62353.96256245295
                  ],
                  "type": "candlestick",
                  "x": [
                    "2021-09-27",
                    "2021-09-28",
                    "2021-09-29",
                    "2021-09-30",
                    "2021-10-01",
                    "2021-10-02",
                    "2021-10-03",
                    "2021-10-04",
                    "2021-10-05",
                    "2021-10-06",
                    "2021-10-07",
                    "2021-10-08",
                    "2021-10-09",
                    "2021-10-10",
                    "2021-10-11",
                    "2021-10-12",
                    "2021-10-13",
                    "2021-10-14",
                    "2021-10-15",
                    "2021-10-16",
                    "2021-10-17",
                    "2021-10-18",
                    "2021-10-19",
                    "2021-10-20",
                    "2021-10-21",
                    "2021-10-22",
                    "2021-10-23",
                    "2021-10-24",
                    "2021-10-25",
                    "2021-10-26",
                    "2021-10-27"
                  ]
                }
              ],
              "layout": {
                "template": {
                  "data": {
                    "bar": [
                      {
                        "error_x": {
                          "color": "#2a3f5f"
                        },
                        "error_y": {
                          "color": "#2a3f5f"
                        },
                        "marker": {
                          "line": {
                            "color": "#E5ECF6",
                            "width": 0.5
                          },
                          "pattern": {
                            "fillmode": "overlay",
                            "size": 10,
                            "solidity": 0.2
                          }
                        },
                        "type": "bar"
                      }
                    ],
                    "barpolar": [
                      {
                        "marker": {
                          "line": {
                            "color": "#E5ECF6",
                            "width": 0.5
                          },
                          "pattern": {
                            "fillmode": "overlay",
                            "size": 10,
                            "solidity": 0.2
                          }
                        },
                        "type": "barpolar"
                      }
                    ],
                    "carpet": [
                      {
                        "aaxis": {
                          "endlinecolor": "#2a3f5f",
                          "gridcolor": "white",
                          "linecolor": "white",
                          "minorgridcolor": "white",
                          "startlinecolor": "#2a3f5f"
                        },
                        "baxis": {
                          "endlinecolor": "#2a3f5f",
                          "gridcolor": "white",
                          "linecolor": "white",
                          "minorgridcolor": "white",
                          "startlinecolor": "#2a3f5f"
                        },
                        "type": "carpet"
                      }
                    ],
                    "choropleth": [
                      {
                        "colorbar": {
                          "outlinewidth": 0,
                          "ticks": ""
                        },
                        "type": "choropleth"
                      }
                    ],
                    "contour": [
                      {
                        "colorbar": {
                          "outlinewidth": 0,
                          "ticks": ""
                        },
                        "colorscale": [
                          [
                            0,
                            "#0d0887"
                          ],
                          [
                            0.1111111111111111,
                            "#46039f"
                          ],
                          [
                            0.2222222222222222,
                            "#7201a8"
                          ],
                          [
                            0.3333333333333333,
                            "#9c179e"
                          ],
                          [
                            0.4444444444444444,
                            "#bd3786"
                          ],
                          [
                            0.5555555555555556,
                            "#d8576b"
                          ],
                          [
                            0.6666666666666666,
                            "#ed7953"
                          ],
                          [
                            0.7777777777777778,
                            "#fb9f3a"
                          ],
                          [
                            0.8888888888888888,
                            "#fdca26"
                          ],
                          [
                            1,
                            "#f0f921"
                          ]
                        ],
                        "type": "contour"
                      }
                    ],
                    "contourcarpet": [
                      {
                        "colorbar": {
                          "outlinewidth": 0,
                          "ticks": ""
                        },
                        "type": "contourcarpet"
                      }
                    ],
                    "heatmap": [
                      {
                        "colorbar": {
                          "outlinewidth": 0,
                          "ticks": ""
                        },
                        "colorscale": [
                          [
                            0,
                            "#0d0887"
                          ],
                          [
                            0.1111111111111111,
                            "#46039f"
                          ],
                          [
                            0.2222222222222222,
                            "#7201a8"
                          ],
                          [
                            0.3333333333333333,
                            "#9c179e"
                          ],
                          [
                            0.4444444444444444,
                            "#bd3786"
                          ],
                          [
                            0.5555555555555556,
                            "#d8576b"
                          ],
                          [
                            0.6666666666666666,
                            "#ed7953"
                          ],
                          [
                            0.7777777777777778,
                            "#fb9f3a"
                          ],
                          [
                            0.8888888888888888,
                            "#fdca26"
                          ],
                          [
                            1,
                            "#f0f921"
                          ]
                        ],
                        "type": "heatmap"
                      }
                    ],
                    "heatmapgl": [
                      {
                        "colorbar": {
                          "outlinewidth": 0,
                          "ticks": ""
                        },
                        "colorscale": [
                          [
                            0,
                            "#0d0887"
                          ],
                          [
                            0.1111111111111111,
                            "#46039f"
                          ],
                          [
                            0.2222222222222222,
                            "#7201a8"
                          ],
                          [
                            0.3333333333333333,
                            "#9c179e"
                          ],
                          [
                            0.4444444444444444,
                            "#bd3786"
                          ],
                          [
                            0.5555555555555556,
                            "#d8576b"
                          ],
                          [
                            0.6666666666666666,
                            "#ed7953"
                          ],
                          [
                            0.7777777777777778,
                            "#fb9f3a"
                          ],
                          [
                            0.8888888888888888,
                            "#fdca26"
                          ],
                          [
                            1,
                            "#f0f921"
                          ]
                        ],
                        "type": "heatmapgl"
                      }
                    ],
                    "histogram": [
                      {
                        "marker": {
                          "pattern": {
                            "fillmode": "overlay",
                            "size": 10,
                            "solidity": 0.2
                          }
                        },
                        "type": "histogram"
                      }
                    ],
                    "histogram2d": [
                      {
                        "colorbar": {
                          "outlinewidth": 0,
                          "ticks": ""
                        },
                        "colorscale": [
                          [
                            0,
                            "#0d0887"
                          ],
                          [
                            0.1111111111111111,
                            "#46039f"
                          ],
                          [
                            0.2222222222222222,
                            "#7201a8"
                          ],
                          [
                            0.3333333333333333,
                            "#9c179e"
                          ],
                          [
                            0.4444444444444444,
                            "#bd3786"
                          ],
                          [
                            0.5555555555555556,
                            "#d8576b"
                          ],
                          [
                            0.6666666666666666,
                            "#ed7953"
                          ],
                          [
                            0.7777777777777778,
                            "#fb9f3a"
                          ],
                          [
                            0.8888888888888888,
                            "#fdca26"
                          ],
                          [
                            1,
                            "#f0f921"
                          ]
                        ],
                        "type": "histogram2d"
                      }
                    ],
                    "histogram2dcontour": [
                      {
                        "colorbar": {
                          "outlinewidth": 0,
                          "ticks": ""
                        },
                        "colorscale": [
                          [
                            0,
                            "#0d0887"
                          ],
                          [
                            0.1111111111111111,
                            "#46039f"
                          ],
                          [
                            0.2222222222222222,
                            "#7201a8"
                          ],
                          [
                            0.3333333333333333,
                            "#9c179e"
                          ],
                          [
                            0.4444444444444444,
                            "#bd3786"
                          ],
                          [
                            0.5555555555555556,
                            "#d8576b"
                          ],
                          [
                            0.6666666666666666,
                            "#ed7953"
                          ],
                          [
                            0.7777777777777778,
                            "#fb9f3a"
                          ],
                          [
                            0.8888888888888888,
                            "#fdca26"
                          ],
                          [
                            1,
                            "#f0f921"
                          ]
                        ],
                        "type": "histogram2dcontour"
                      }
                    ],
                    "mesh3d": [
                      {
                        "colorbar": {
                          "outlinewidth": 0,
                          "ticks": ""
                        },
                        "type": "mesh3d"
                      }
                    ],
                    "parcoords": [
                      {
                        "line": {
                          "colorbar": {
                            "outlinewidth": 0,
                            "ticks": ""
                          }
                        },
                        "type": "parcoords"
                      }
                    ],
                    "pie": [
                      {
                        "automargin": true,
                        "type": "pie"
                      }
                    ],
                    "scatter": [
                      {
                        "marker": {
                          "colorbar": {
                            "outlinewidth": 0,
                            "ticks": ""
                          }
                        },
                        "type": "scatter"
                      }
                    ],
                    "scatter3d": [
                      {
                        "line": {
                          "colorbar": {
                            "outlinewidth": 0,
                            "ticks": ""
                          }
                        },
                        "marker": {
                          "colorbar": {
                            "outlinewidth": 0,
                            "ticks": ""
                          }
                        },
                        "type": "scatter3d"
                      }
                    ],
                    "scattercarpet": [
                      {
                        "marker": {
                          "colorbar": {
                            "outlinewidth": 0,
                            "ticks": ""
                          }
                        },
                        "type": "scattercarpet"
                      }
                    ],
                    "scattergeo": [
                      {
                        "marker": {
                          "colorbar": {
                            "outlinewidth": 0,
                            "ticks": ""
                          }
                        },
                        "type": "scattergeo"
                      }
                    ],
                    "scattergl": [
                      {
                        "marker": {
                          "colorbar": {
                            "outlinewidth": 0,
                            "ticks": ""
                          }
                        },
                        "type": "scattergl"
                      }
                    ],
                    "scattermapbox": [
                      {
                        "marker": {
                          "colorbar": {
                            "outlinewidth": 0,
                            "ticks": ""
                          }
                        },
                        "type": "scattermapbox"
                      }
                    ],
                    "scatterpolar": [
                      {
                        "marker": {
                          "colorbar": {
                            "outlinewidth": 0,
                            "ticks": ""
                          }
                        },
                        "type": "scatterpolar"
                      }
                    ],
                    "scatterpolargl": [
                      {
                        "marker": {
                          "colorbar": {
                            "outlinewidth": 0,
                            "ticks": ""
                          }
                        },
                        "type": "scatterpolargl"
                      }
                    ],
                    "scatterternary": [
                      {
                        "marker": {
                          "colorbar": {
                            "outlinewidth": 0,
                            "ticks": ""
                          }
                        },
                        "type": "scatterternary"
                      }
                    ],
                    "surface": [
                      {
                        "colorbar": {
                          "outlinewidth": 0,
                          "ticks": ""
                        },
                        "colorscale": [
                          [
                            0,
                            "#0d0887"
                          ],
                          [
                            0.1111111111111111,
                            "#46039f"
                          ],
                          [
                            0.2222222222222222,
                            "#7201a8"
                          ],
                          [
                            0.3333333333333333,
                            "#9c179e"
                          ],
                          [
                            0.4444444444444444,
                            "#bd3786"
                          ],
                          [
                            0.5555555555555556,
                            "#d8576b"
                          ],
                          [
                            0.6666666666666666,
                            "#ed7953"
                          ],
                          [
                            0.7777777777777778,
                            "#fb9f3a"
                          ],
                          [
                            0.8888888888888888,
                            "#fdca26"
                          ],
                          [
                            1,
                            "#f0f921"
                          ]
                        ],
                        "type": "surface"
                      }
                    ],
                    "table": [
                      {
                        "cells": {
                          "fill": {
                            "color": "#EBF0F8"
                          },
                          "line": {
                            "color": "white"
                          }
                        },
                        "header": {
                          "fill": {
                            "color": "#C8D4E3"
                          },
                          "line": {
                            "color": "white"
                          }
                        },
                        "type": "table"
                      }
                    ]
                  },
                  "layout": {
                    "annotationdefaults": {
                      "arrowcolor": "#2a3f5f",
                      "arrowhead": 0,
                      "arrowwidth": 1
                    },
                    "autotypenumbers": "strict",
                    "coloraxis": {
                      "colorbar": {
                        "outlinewidth": 0,
                        "ticks": ""
                      }
                    },
                    "colorscale": {
                      "diverging": [
                        [
                          0,
                          "#8e0152"
                        ],
                        [
                          0.1,
                          "#c51b7d"
                        ],
                        [
                          0.2,
                          "#de77ae"
                        ],
                        [
                          0.3,
                          "#f1b6da"
                        ],
                        [
                          0.4,
                          "#fde0ef"
                        ],
                        [
                          0.5,
                          "#f7f7f7"
                        ],
                        [
                          0.6,
                          "#e6f5d0"
                        ],
                        [
                          0.7,
                          "#b8e186"
                        ],
                        [
                          0.8,
                          "#7fbc41"
                        ],
                        [
                          0.9,
                          "#4d9221"
                        ],
                        [
                          1,
                          "#276419"
                        ]
                      ],
                      "sequential": [
                        [
                          0,
                          "#0d0887"
                        ],
                        [
                          0.1111111111111111,
                          "#46039f"
                        ],
                        [
                          0.2222222222222222,
                          "#7201a8"
                        ],
                        [
                          0.3333333333333333,
                          "#9c179e"
                        ],
                        [
                          0.4444444444444444,
                          "#bd3786"
                        ],
                        [
                          0.5555555555555556,
                          "#d8576b"
                        ],
                        [
                          0.6666666666666666,
                          "#ed7953"
                        ],
                        [
                          0.7777777777777778,
                          "#fb9f3a"
                        ],
                        [
                          0.8888888888888888,
                          "#fdca26"
                        ],
                        [
                          1,
                          "#f0f921"
                        ]
                      ],
                      "sequentialminus": [
                        [
                          0,
                          "#0d0887"
                        ],
                        [
                          0.1111111111111111,
                          "#46039f"
                        ],
                        [
                          0.2222222222222222,
                          "#7201a8"
                        ],
                        [
                          0.3333333333333333,
                          "#9c179e"
                        ],
                        [
                          0.4444444444444444,
                          "#bd3786"
                        ],
                        [
                          0.5555555555555556,
                          "#d8576b"
                        ],
                        [
                          0.6666666666666666,
                          "#ed7953"
                        ],
                        [
                          0.7777777777777778,
                          "#fb9f3a"
                        ],
                        [
                          0.8888888888888888,
                          "#fdca26"
                        ],
                        [
                          1,
                          "#f0f921"
                        ]
                      ]
                    },
                    "colorway": [
                      "#636efa",
                      "#EF553B",
                      "#00cc96",
                      "#ab63fa",
                      "#FFA15A",
                      "#19d3f3",
                      "#FF6692",
                      "#B6E880",
                      "#FF97FF",
                      "#FECB52"
                    ],
                    "font": {
                      "color": "#2a3f5f"
                    },
                    "geo": {
                      "bgcolor": "white",
                      "lakecolor": "white",
                      "landcolor": "#E5ECF6",
                      "showlakes": true,
                      "showland": true,
                      "subunitcolor": "white"
                    },
                    "hoverlabel": {
                      "align": "left"
                    },
                    "hovermode": "closest",
                    "mapbox": {
                      "style": "light"
                    },
                    "paper_bgcolor": "white",
                    "plot_bgcolor": "#E5ECF6",
                    "polar": {
                      "angularaxis": {
                        "gridcolor": "white",
                        "linecolor": "white",
                        "ticks": ""
                      },
                      "bgcolor": "#E5ECF6",
                      "radialaxis": {
                        "gridcolor": "white",
                        "linecolor": "white",
                        "ticks": ""
                      }
                    },
                    "scene": {
                      "xaxis": {
                        "backgroundcolor": "#E5ECF6",
                        "gridcolor": "white",
                        "gridwidth": 2,
                        "linecolor": "white",
                        "showbackground": true,
                        "ticks": "",
                        "zerolinecolor": "white"
                      },
                      "yaxis": {
                        "backgroundcolor": "#E5ECF6",
                        "gridcolor": "white",
                        "gridwidth": 2,
                        "linecolor": "white",
                        "showbackground": true,
                        "ticks": "",
                        "zerolinecolor": "white"
                      },
                      "zaxis": {
                        "backgroundcolor": "#E5ECF6",
                        "gridcolor": "white",
                        "gridwidth": 2,
                        "linecolor": "white",
                        "showbackground": true,
                        "ticks": "",
                        "zerolinecolor": "white"
                      }
                    },
                    "shapedefaults": {
                      "line": {
                        "color": "#2a3f5f"
                      }
                    },
                    "ternary": {
                      "aaxis": {
                        "gridcolor": "white",
                        "linecolor": "white",
                        "ticks": ""
                      },
                      "baxis": {
                        "gridcolor": "white",
                        "linecolor": "white",
                        "ticks": ""
                      },
                      "bgcolor": "#E5ECF6",
                      "caxis": {
                        "gridcolor": "white",
                        "linecolor": "white",
                        "ticks": ""
                      }
                    },
                    "title": {
                      "x": 0.05
                    },
                    "xaxis": {
                      "automargin": true,
                      "gridcolor": "white",
                      "linecolor": "white",
                      "ticks": "",
                      "title": {
                        "standoff": 15
                      },
                      "zerolinecolor": "white",
                      "zerolinewidth": 2
                    },
                    "yaxis": {
                      "automargin": true,
                      "gridcolor": "white",
                      "linecolor": "white",
                      "ticks": "",
                      "title": {
                        "standoff": 15
                      },
                      "zerolinecolor": "white",
                      "zerolinewidth": 2
                    }
                  }
                },
                "xaxis": {
                  "rangeslider": {
                    "visible": false
                  }
                }
              }
            }
          },
          "metadata": {},
          "output_type": "display_data"
        }
      ],
      "source": [
        "fig = go.Figure(data=[go.Candlestick(x=candlestick_data['date'],\n",
        "                open=candlestick_data['Price']['first'], \n",
        "                high=candlestick_data['Price']['max'],\n",
        "                low=candlestick_data['Price']['min'], \n",
        "                close=candlestick_data['Price']['last'])\n",
        "                ])\n",
        "\n",
        "fig.update_layout(xaxis_rangeslider_visible=False)\n",
        "\n",
        "fig.show()"
      ]
    },
    {
      "cell_type": "markdown",
      "metadata": {},
      "source": [
        "# 4 hour time frame"
      ]
    },
    {
      "cell_type": "code",
      "execution_count": 15,
      "metadata": {
        "id": "cO1GlSmEByVm"
      },
      "outputs": [
        {
          "data": {
            "text/html": [
              "<div>\n",
              "<style scoped>\n",
              "    .dataframe tbody tr th:only-of-type {\n",
              "        vertical-align: middle;\n",
              "    }\n",
              "\n",
              "    .dataframe tbody tr th {\n",
              "        vertical-align: top;\n",
              "    }\n",
              "\n",
              "    .dataframe thead th {\n",
              "        text-align: right;\n",
              "    }\n",
              "</style>\n",
              "<table border=\"1\" class=\"dataframe\">\n",
              "  <thead>\n",
              "    <tr style=\"text-align: right;\">\n",
              "      <th></th>\n",
              "      <th>TimeStamp</th>\n",
              "      <th>Price</th>\n",
              "      <th>date</th>\n",
              "      <th>time</th>\n",
              "      <th>hour</th>\n",
              "    </tr>\n",
              "  </thead>\n",
              "  <tbody>\n",
              "    <tr>\n",
              "      <th>0</th>\n",
              "      <td>1632690026503</td>\n",
              "      <td>43673.571431</td>\n",
              "      <td>2021-09-27</td>\n",
              "      <td>2021-09-26 21:00:26</td>\n",
              "      <td>21</td>\n",
              "    </tr>\n",
              "    <tr>\n",
              "      <th>1</th>\n",
              "      <td>1632693798930</td>\n",
              "      <td>43644.345877</td>\n",
              "      <td>2021-09-27</td>\n",
              "      <td>2021-09-26 22:03:18</td>\n",
              "      <td>22</td>\n",
              "    </tr>\n",
              "    <tr>\n",
              "      <th>2</th>\n",
              "      <td>1632697649451</td>\n",
              "      <td>43087.021444</td>\n",
              "      <td>2021-09-27</td>\n",
              "      <td>2021-09-26 23:07:29</td>\n",
              "      <td>23</td>\n",
              "    </tr>\n",
              "    <tr>\n",
              "      <th>3</th>\n",
              "      <td>1632700854823</td>\n",
              "      <td>43336.861233</td>\n",
              "      <td>2021-09-27</td>\n",
              "      <td>2021-09-27 00:00:54</td>\n",
              "      <td>0</td>\n",
              "    </tr>\n",
              "    <tr>\n",
              "      <th>4</th>\n",
              "      <td>1632704403273</td>\n",
              "      <td>43890.928142</td>\n",
              "      <td>2021-09-27</td>\n",
              "      <td>2021-09-27 01:00:03</td>\n",
              "      <td>1</td>\n",
              "    </tr>\n",
              "    <tr>\n",
              "      <th>5</th>\n",
              "      <td>1632708128535</td>\n",
              "      <td>44346.563424</td>\n",
              "      <td>2021-09-27</td>\n",
              "      <td>2021-09-27 02:02:08</td>\n",
              "      <td>2</td>\n",
              "    </tr>\n",
              "    <tr>\n",
              "      <th>6</th>\n",
              "      <td>1632711814234</td>\n",
              "      <td>44262.685836</td>\n",
              "      <td>2021-09-27</td>\n",
              "      <td>2021-09-27 03:03:34</td>\n",
              "      <td>3</td>\n",
              "    </tr>\n",
              "    <tr>\n",
              "      <th>7</th>\n",
              "      <td>1632715388846</td>\n",
              "      <td>44034.181620</td>\n",
              "      <td>2021-09-27</td>\n",
              "      <td>2021-09-27 04:03:08</td>\n",
              "      <td>4</td>\n",
              "    </tr>\n",
              "    <tr>\n",
              "      <th>8</th>\n",
              "      <td>1632718923893</td>\n",
              "      <td>44032.649990</td>\n",
              "      <td>2021-09-27</td>\n",
              "      <td>2021-09-27 05:02:03</td>\n",
              "      <td>5</td>\n",
              "    </tr>\n",
              "    <tr>\n",
              "      <th>9</th>\n",
              "      <td>1632722467244</td>\n",
              "      <td>44136.446182</td>\n",
              "      <td>2021-09-27</td>\n",
              "      <td>2021-09-27 06:01:07</td>\n",
              "      <td>6</td>\n",
              "    </tr>\n",
              "    <tr>\n",
              "      <th>10</th>\n",
              "      <td>1632726180304</td>\n",
              "      <td>43882.536138</td>\n",
              "      <td>2021-09-27</td>\n",
              "      <td>2021-09-27 07:03:00</td>\n",
              "      <td>7</td>\n",
              "    </tr>\n",
              "    <tr>\n",
              "      <th>11</th>\n",
              "      <td>1632730019950</td>\n",
              "      <td>43868.714077</td>\n",
              "      <td>2021-09-27</td>\n",
              "      <td>2021-09-27 08:06:59</td>\n",
              "      <td>8</td>\n",
              "    </tr>\n",
              "    <tr>\n",
              "      <th>12</th>\n",
              "      <td>1632733374529</td>\n",
              "      <td>43912.214257</td>\n",
              "      <td>2021-09-27</td>\n",
              "      <td>2021-09-27 09:02:54</td>\n",
              "      <td>9</td>\n",
              "    </tr>\n",
              "    <tr>\n",
              "      <th>13</th>\n",
              "      <td>1632737061859</td>\n",
              "      <td>43677.968002</td>\n",
              "      <td>2021-09-27</td>\n",
              "      <td>2021-09-27 10:04:21</td>\n",
              "      <td>10</td>\n",
              "    </tr>\n",
              "    <tr>\n",
              "      <th>14</th>\n",
              "      <td>1632740986399</td>\n",
              "      <td>43890.935959</td>\n",
              "      <td>2021-09-27</td>\n",
              "      <td>2021-09-27 11:09:46</td>\n",
              "      <td>11</td>\n",
              "    </tr>\n",
              "    <tr>\n",
              "      <th>15</th>\n",
              "      <td>1632744213546</td>\n",
              "      <td>43885.590332</td>\n",
              "      <td>2021-09-27</td>\n",
              "      <td>2021-09-27 12:03:33</td>\n",
              "      <td>12</td>\n",
              "    </tr>\n",
              "    <tr>\n",
              "      <th>16</th>\n",
              "      <td>1632747653698</td>\n",
              "      <td>43755.771364</td>\n",
              "      <td>2021-09-27</td>\n",
              "      <td>2021-09-27 13:00:53</td>\n",
              "      <td>13</td>\n",
              "    </tr>\n",
              "    <tr>\n",
              "      <th>17</th>\n",
              "      <td>1632751402699</td>\n",
              "      <td>43580.701018</td>\n",
              "      <td>2021-09-27</td>\n",
              "      <td>2021-09-27 14:03:22</td>\n",
              "      <td>14</td>\n",
              "    </tr>\n",
              "    <tr>\n",
              "      <th>18</th>\n",
              "      <td>1632755273016</td>\n",
              "      <td>43218.745281</td>\n",
              "      <td>2021-09-27</td>\n",
              "      <td>2021-09-27 15:07:53</td>\n",
              "      <td>15</td>\n",
              "    </tr>\n",
              "    <tr>\n",
              "      <th>19</th>\n",
              "      <td>1632758677653</td>\n",
              "      <td>43333.760739</td>\n",
              "      <td>2021-09-27</td>\n",
              "      <td>2021-09-27 16:04:37</td>\n",
              "      <td>16</td>\n",
              "    </tr>\n",
              "    <tr>\n",
              "      <th>20</th>\n",
              "      <td>1632762142403</td>\n",
              "      <td>43035.040860</td>\n",
              "      <td>2021-09-27</td>\n",
              "      <td>2021-09-27 17:02:22</td>\n",
              "      <td>17</td>\n",
              "    </tr>\n",
              "    <tr>\n",
              "      <th>21</th>\n",
              "      <td>1632765979441</td>\n",
              "      <td>43165.680735</td>\n",
              "      <td>2021-09-27</td>\n",
              "      <td>2021-09-27 18:06:19</td>\n",
              "      <td>18</td>\n",
              "    </tr>\n",
              "    <tr>\n",
              "      <th>22</th>\n",
              "      <td>1632769482284</td>\n",
              "      <td>43088.973852</td>\n",
              "      <td>2021-09-27</td>\n",
              "      <td>2021-09-27 19:04:42</td>\n",
              "      <td>19</td>\n",
              "    </tr>\n",
              "    <tr>\n",
              "      <th>23</th>\n",
              "      <td>1632772818858</td>\n",
              "      <td>43145.905775</td>\n",
              "      <td>2021-09-27</td>\n",
              "      <td>2021-09-27 20:00:18</td>\n",
              "      <td>20</td>\n",
              "    </tr>\n",
              "  </tbody>\n",
              "</table>\n",
              "</div>"
            ],
            "text/plain": [
              "        TimeStamp         Price        date                 time  hour\n",
              "0   1632690026503  43673.571431  2021-09-27  2021-09-26 21:00:26    21\n",
              "1   1632693798930  43644.345877  2021-09-27  2021-09-26 22:03:18    22\n",
              "2   1632697649451  43087.021444  2021-09-27  2021-09-26 23:07:29    23\n",
              "3   1632700854823  43336.861233  2021-09-27  2021-09-27 00:00:54     0\n",
              "4   1632704403273  43890.928142  2021-09-27  2021-09-27 01:00:03     1\n",
              "5   1632708128535  44346.563424  2021-09-27  2021-09-27 02:02:08     2\n",
              "6   1632711814234  44262.685836  2021-09-27  2021-09-27 03:03:34     3\n",
              "7   1632715388846  44034.181620  2021-09-27  2021-09-27 04:03:08     4\n",
              "8   1632718923893  44032.649990  2021-09-27  2021-09-27 05:02:03     5\n",
              "9   1632722467244  44136.446182  2021-09-27  2021-09-27 06:01:07     6\n",
              "10  1632726180304  43882.536138  2021-09-27  2021-09-27 07:03:00     7\n",
              "11  1632730019950  43868.714077  2021-09-27  2021-09-27 08:06:59     8\n",
              "12  1632733374529  43912.214257  2021-09-27  2021-09-27 09:02:54     9\n",
              "13  1632737061859  43677.968002  2021-09-27  2021-09-27 10:04:21    10\n",
              "14  1632740986399  43890.935959  2021-09-27  2021-09-27 11:09:46    11\n",
              "15  1632744213546  43885.590332  2021-09-27  2021-09-27 12:03:33    12\n",
              "16  1632747653698  43755.771364  2021-09-27  2021-09-27 13:00:53    13\n",
              "17  1632751402699  43580.701018  2021-09-27  2021-09-27 14:03:22    14\n",
              "18  1632755273016  43218.745281  2021-09-27  2021-09-27 15:07:53    15\n",
              "19  1632758677653  43333.760739  2021-09-27  2021-09-27 16:04:37    16\n",
              "20  1632762142403  43035.040860  2021-09-27  2021-09-27 17:02:22    17\n",
              "21  1632765979441  43165.680735  2021-09-27  2021-09-27 18:06:19    18\n",
              "22  1632769482284  43088.973852  2021-09-27  2021-09-27 19:04:42    19\n",
              "23  1632772818858  43145.905775  2021-09-27  2021-09-27 20:00:18    20"
            ]
          },
          "execution_count": 15,
          "metadata": {},
          "output_type": "execute_result"
        }
      ],
      "source": [
        "data['time'] = data['TimeStamp'].apply(lambda d: time.strftime(\"%Y-%m-%d %H:%M:%S\", time.gmtime(d/1000)))\n",
        "data['hour'] = data.time.astype('datetime64').apply(lambda i:i.hour)\n",
        "data[0:24]"
      ]
    },
    {
      "cell_type": "code",
      "execution_count": 16,
      "metadata": {},
      "outputs": [
        {
          "data": {
            "text/html": [
              "<div>\n",
              "<style scoped>\n",
              "    .dataframe tbody tr th:only-of-type {\n",
              "        vertical-align: middle;\n",
              "    }\n",
              "\n",
              "    .dataframe tbody tr th {\n",
              "        vertical-align: top;\n",
              "    }\n",
              "\n",
              "    .dataframe thead th {\n",
              "        text-align: right;\n",
              "    }\n",
              "</style>\n",
              "<table border=\"1\" class=\"dataframe\">\n",
              "  <thead>\n",
              "    <tr style=\"text-align: right;\">\n",
              "      <th></th>\n",
              "      <th>TimeStamp</th>\n",
              "      <th>Price</th>\n",
              "      <th>date</th>\n",
              "      <th>time</th>\n",
              "      <th>hour</th>\n",
              "      <th>H4</th>\n",
              "      <th>H4_date</th>\n",
              "    </tr>\n",
              "  </thead>\n",
              "  <tbody>\n",
              "    <tr>\n",
              "      <th>0</th>\n",
              "      <td>1632690026503</td>\n",
              "      <td>43673.571431</td>\n",
              "      <td>2021-09-27</td>\n",
              "      <td>2021-09-26 21:00:26</td>\n",
              "      <td>21</td>\n",
              "      <td>6</td>\n",
              "      <td>2021-09-27_6</td>\n",
              "    </tr>\n",
              "    <tr>\n",
              "      <th>1</th>\n",
              "      <td>1632693798930</td>\n",
              "      <td>43644.345877</td>\n",
              "      <td>2021-09-27</td>\n",
              "      <td>2021-09-26 22:03:18</td>\n",
              "      <td>22</td>\n",
              "      <td>6</td>\n",
              "      <td>2021-09-27_6</td>\n",
              "    </tr>\n",
              "    <tr>\n",
              "      <th>2</th>\n",
              "      <td>1632697649451</td>\n",
              "      <td>43087.021444</td>\n",
              "      <td>2021-09-27</td>\n",
              "      <td>2021-09-26 23:07:29</td>\n",
              "      <td>23</td>\n",
              "      <td>6</td>\n",
              "      <td>2021-09-27_6</td>\n",
              "    </tr>\n",
              "    <tr>\n",
              "      <th>3</th>\n",
              "      <td>1632700854823</td>\n",
              "      <td>43336.861233</td>\n",
              "      <td>2021-09-27</td>\n",
              "      <td>2021-09-27 00:00:54</td>\n",
              "      <td>0</td>\n",
              "      <td>1</td>\n",
              "      <td>2021-09-27_1</td>\n",
              "    </tr>\n",
              "    <tr>\n",
              "      <th>4</th>\n",
              "      <td>1632704403273</td>\n",
              "      <td>43890.928142</td>\n",
              "      <td>2021-09-27</td>\n",
              "      <td>2021-09-27 01:00:03</td>\n",
              "      <td>1</td>\n",
              "      <td>1</td>\n",
              "      <td>2021-09-27_1</td>\n",
              "    </tr>\n",
              "    <tr>\n",
              "      <th>...</th>\n",
              "      <td>...</td>\n",
              "      <td>...</td>\n",
              "      <td>...</td>\n",
              "      <td>...</td>\n",
              "      <td>...</td>\n",
              "      <td>...</td>\n",
              "      <td>...</td>\n",
              "    </tr>\n",
              "    <tr>\n",
              "      <th>717</th>\n",
              "      <td>1635267979688</td>\n",
              "      <td>62191.380597</td>\n",
              "      <td>2021-10-26</td>\n",
              "      <td>2021-10-26 17:06:19</td>\n",
              "      <td>17</td>\n",
              "      <td>5</td>\n",
              "      <td>2021-10-26_5</td>\n",
              "    </tr>\n",
              "    <tr>\n",
              "      <th>718</th>\n",
              "      <td>1635271319600</td>\n",
              "      <td>62706.642851</td>\n",
              "      <td>2021-10-26</td>\n",
              "      <td>2021-10-26 18:01:59</td>\n",
              "      <td>18</td>\n",
              "      <td>5</td>\n",
              "      <td>2021-10-26_5</td>\n",
              "    </tr>\n",
              "    <tr>\n",
              "      <th>719</th>\n",
              "      <td>1635274825816</td>\n",
              "      <td>62534.566193</td>\n",
              "      <td>2021-10-26</td>\n",
              "      <td>2021-10-26 19:00:25</td>\n",
              "      <td>19</td>\n",
              "      <td>5</td>\n",
              "      <td>2021-10-26_5</td>\n",
              "    </tr>\n",
              "    <tr>\n",
              "      <th>720</th>\n",
              "      <td>1635278547030</td>\n",
              "      <td>62281.467808</td>\n",
              "      <td>2021-10-26</td>\n",
              "      <td>2021-10-26 20:02:27</td>\n",
              "      <td>20</td>\n",
              "      <td>6</td>\n",
              "      <td>2021-10-26_6</td>\n",
              "    </tr>\n",
              "    <tr>\n",
              "      <th>721</th>\n",
              "      <td>1635280989000</td>\n",
              "      <td>62353.962562</td>\n",
              "      <td>2021-10-27</td>\n",
              "      <td>2021-10-26 20:43:09</td>\n",
              "      <td>20</td>\n",
              "      <td>6</td>\n",
              "      <td>2021-10-27_6</td>\n",
              "    </tr>\n",
              "  </tbody>\n",
              "</table>\n",
              "<p>722 rows × 7 columns</p>\n",
              "</div>"
            ],
            "text/plain": [
              "         TimeStamp         Price        date                 time  hour  H4  \\\n",
              "0    1632690026503  43673.571431  2021-09-27  2021-09-26 21:00:26    21   6   \n",
              "1    1632693798930  43644.345877  2021-09-27  2021-09-26 22:03:18    22   6   \n",
              "2    1632697649451  43087.021444  2021-09-27  2021-09-26 23:07:29    23   6   \n",
              "3    1632700854823  43336.861233  2021-09-27  2021-09-27 00:00:54     0   1   \n",
              "4    1632704403273  43890.928142  2021-09-27  2021-09-27 01:00:03     1   1   \n",
              "..             ...           ...         ...                  ...   ...  ..   \n",
              "717  1635267979688  62191.380597  2021-10-26  2021-10-26 17:06:19    17   5   \n",
              "718  1635271319600  62706.642851  2021-10-26  2021-10-26 18:01:59    18   5   \n",
              "719  1635274825816  62534.566193  2021-10-26  2021-10-26 19:00:25    19   5   \n",
              "720  1635278547030  62281.467808  2021-10-26  2021-10-26 20:02:27    20   6   \n",
              "721  1635280989000  62353.962562  2021-10-27  2021-10-26 20:43:09    20   6   \n",
              "\n",
              "          H4_date  \n",
              "0    2021-09-27_6  \n",
              "1    2021-09-27_6  \n",
              "2    2021-09-27_6  \n",
              "3    2021-09-27_1  \n",
              "4    2021-09-27_1  \n",
              "..            ...  \n",
              "717  2021-10-26_5  \n",
              "718  2021-10-26_5  \n",
              "719  2021-10-26_5  \n",
              "720  2021-10-26_6  \n",
              "721  2021-10-27_6  \n",
              "\n",
              "[722 rows x 7 columns]"
            ]
          },
          "execution_count": 16,
          "metadata": {},
          "output_type": "execute_result"
        }
      ],
      "source": [
        "#function to group H4 data\n",
        "def H4date(x):\n",
        "  if 0<=x<=3: return 1\n",
        "  elif 4<=x<=7: return 2\n",
        "  elif 8<=x<=11: return 3\n",
        "  elif 12<=x<=15: return 4\n",
        "  elif 16<=x<=19: return 5\n",
        "  elif 20<=x<=23: return 6\n",
        "\n",
        "data['H4'] = data.hour.apply(H4date)\n",
        "data['H4_date'] = data.date.astype(str)+'_'+data.H4.astype(str)\n",
        "data"
      ]
    },
    {
      "cell_type": "code",
      "execution_count": 17,
      "metadata": {},
      "outputs": [],
      "source": [
        "candlestick_data_H4 = data.groupby(data.H4_date, as_index=False).agg({\"Price\": ['min', 'max', 'first', 'last']})"
      ]
    },
    {
      "cell_type": "code",
      "execution_count": 18,
      "metadata": {},
      "outputs": [
        {
          "data": {
            "application/vnd.plotly.v1+json": {
              "config": {
                "plotlyServerURL": "https://plot.ly"
              },
              "data": [
                {
                  "close": [
                    44262.68583595872,
                    43882.536137861796,
                    43890.93595888363,
                    43218.74528102141,
                    43088.97385196606,
                    43145.90577483138,
                    42465.98359070598,
                    42309.728165879606,
                    41943.493481438956,
                    41669.462613901844,
                    41761.556115579966,
                    41586.0279658699,
                    41876.58805473199,
                    42426.575961093346,
                    42560.12187109053,
                    42322.15338659268,
                    41353.694888288104,
                    41313.87205861029,
                    43263.473020075064,
                    43542.50686641782,
                    43009.10388472775,
                    43072.11476230965,
                    44160.400900686334,
                    43664.03250224537,
                    43423.91670029305,
                    44097.63325505293,
                    47572.92966075495,
                    47030.86256089408,
                    47815.88388721625,
                    48006.95048741709,
                    47814.76120872627,
                    47823.173178964505,
                    47723.97624529692,
                    48172.78336308354,
                    47963.269499733186,
                    48230.32803591043,
                    47696.34812033388,
                    48115.34946118047,
                    47895.10355723551,
                    48051.37481812014,
                    48844.60557877188,
                    48842.92408615203,
                    47808.09097671579,
                    47834.87982560346,
                    47725.19953845307,
                    47227.376386303695,
                    49470.207921793866,
                    49394.27992920298,
                    49430.235153994894,
                    49420.45939028954,
                    50065.739260444854,
                    49931.82921179024,
                    50677.84500428232,
                    51421.659024552915,
                    51614.08941491843,
                    51646.4478121409,
                    51365.47595161365,
                    54394.55516793564,
                    54617.32588851085,
                    54988.993230698354,
                    55148.01458496704,
                    54575.26808341444,
                    54040.90370561785,
                    53701.37704643536,
                    54024.79510261018,
                    54057.36043695341,
                    53906.80949484352,
                    54194.72538431304,
                    55568.87472394908,
                    54691.52972934324,
                    54634.88141047918,
                    54731.34292528844,
                    54249.39789629648,
                    54888.65798223481,
                    54938.956339182914,
                    55168.54617688727,
                    55036.20043603638,
                    54673.55765876238,
                    54913.691850861935,
                    55666.74690442649,
                    55048.378686685726,
                    55264.1807704019,
                    55471.62006747292,
                    55537.71413015851,
                    56184.63482008901,
                    56744.80590948331,
                    56376.74743265927,
                    57606.871422096585,
                    57509.923559016264,
                    57644.52504473283,
                    56852.7419209776,
                    57512.607067381425,
                    57382.8541500852,
                    56526.0569479718,
                    55757.81981564693,
                    55492.82188576949,
                    56542.50923716568,
                    55356.82594272804,
                    54809.65355371263,
                    56067.618100469954,
                    57146.5084981953,
                    57211.48061712204,
                    58284.472325019575,
                    57742.028633250935,
                    57902.456243478846,
                    57522.1663736761,
                    58495.339366957516,
                    57762.83104362115,
                    59396.0030344072,
                    59809.599537610244,
                    59279.80993409454,
                    60158.81483447253,
                    61654.93429870902,
                    61640.46472552311,
                    61854.976945170325,
                    62132.956186898344,
                    61745.83749602802,
                    61047.1689634236,
                    61319.37856037501,
                    61136.297485981246,
                    61354.58592246565,
                    61048.96427009132,
                    61434.500963462335,
                    61178.15162034921,
                    61045.24581656004,
                    59902.95672683597,
                    62268.050737652644,
                    62794.042756009745,
                    61548.50703859102,
                    62300.31881604912,
                    61912.19716226337,
                    61503.29215640341,
                    61841.61159752708,
                    62219.61112449002,
                    62247.90384613937,
                    62986.52697502022,
                    63582.74422591917,
                    64036.90677872531,
                    63888.87397415527,
                    63753.89685455743,
                    63830.571689433105,
                    67118.89194557608,
                    66879.02988644392,
                    66574.91134847623,
                    65388.463110616234,
                    64577.41280561134,
                    65810.44537353246,
                    63880.41820228637,
                    62988.47161646586,
                    62705.1372884289,
                    62851.839344004846,
                    62856.09947125461,
                    63519.13191069183,
                    61973.560511881915,
                    60940.226405474226,
                    60981.4843634978,
                    61239.070140796415,
                    61305.255504739915,
                    60515.63790706662,
                    61435.43933450337,
                    61290.72865524647,
                    60961.74270436763,
                    61303.44897447469,
                    61081.11197034002,
                    61177.390706994294,
                    60171.631919271116,
                    60182.8088390515,
                    60560.56493099557,
                    62310.93042741927,
                    62470.149147100165,
                    63080.55062001406,
                    63683.56563055486,
                    63355.17536492092,
                    63038.34165270857,
                    63033.62005766051,
                    62674.67408742275,
                    63238.22586208257,
                    61972.93260624749,
                    62534.56619343088,
                    62281.46780826973,
                    62353.96256245295
                  ],
                  "high": [
                    44346.56342448931,
                    44136.446181911735,
                    43912.214256829015,
                    43885.59033202141,
                    43333.76073850151,
                    43673.57143121867,
                    42586.9317187335,
                    42735.86577387654,
                    42047.31086935299,
                    42154.001146840994,
                    41761.556115579966,
                    43312.48958006078,
                    41876.58805473199,
                    42426.575961093346,
                    42590.87653476375,
                    42520.29931588971,
                    41745.724733104624,
                    41910.23806924157,
                    43263.473020075064,
                    43615.75845419041,
                    43368.454032502224,
                    43594.69676279027,
                    44160.400900686334,
                    43664.03250224537,
                    43859.32614724109,
                    44097.63325505293,
                    47572.92966075495,
                    47600.68697024634,
                    47815.88388721625,
                    48006.95048741709,
                    48181.87627260008,
                    47823.173178964505,
                    47886.48327296254,
                    48172.78336308354,
                    48101.940493612354,
                    48383.330678746366,
                    47862.63317597535,
                    48115.34946118047,
                    47976.90712925155,
                    48112.20279575583,
                    49167.26133528046,
                    48842.92408615203,
                    48282.97113857447,
                    47891.33714007295,
                    47943.075051997424,
                    47974.884194530874,
                    49470.207921793866,
                    49394.27992920298,
                    49784.570116493895,
                    49420.45939028954,
                    50583.42818787785,
                    50301.283430331285,
                    50677.84500428232,
                    51421.659024552915,
                    51618.141351150036,
                    51652.03871960087,
                    51556.79273951564,
                    54394.55516793564,
                    55010.99199463939,
                    54988.993230698354,
                    55348.36545619193,
                    55198.9578428457,
                    54739.64443785246,
                    54588.25334207995,
                    54456.97584372188,
                    55292.02506597411,
                    54337.03592175362,
                    54305.175242670724,
                    55954.43265452176,
                    55326.07105743581,
                    54634.88141047918,
                    54731.34292528844,
                    54249.39789629648,
                    54888.65798223481,
                    55021.988199721614,
                    55378.278435649285,
                    55036.20043603638,
                    54673.55765876238,
                    55125.460337680444,
                    56236.92024261591,
                    55698.055320754516,
                    55307.716072968346,
                    55595.271796603585,
                    55537.71413015851,
                    56184.63482008901,
                    56777.81766417929,
                    56854.26223126716,
                    57606.871422096585,
                    57641.05605462613,
                    57644.52504473283,
                    57572.510855596534,
                    57658.8388480354,
                    57663.1656437878,
                    57476.752586966104,
                    56218.01924425072,
                    57489.53439910401,
                    56653.82698862822,
                    56446.48850733228,
                    55112.402118358776,
                    56067.618100469954,
                    57146.5084981953,
                    57211.48061712204,
                    58537.18525250825,
                    58185.38587954407,
                    57902.456243478846,
                    57766.135694443685,
                    58495.339366957516,
                    57762.83104362115,
                    59396.0030344072,
                    59809.599537610244,
                    59509.81437404279,
                    60169.43282931149,
                    62048.252117014104,
                    61640.46472552311,
                    61854.976945170325,
                    62392.21888533769,
                    61927.230094722705,
                    61887.53897487175,
                    61319.37856037501,
                    62688.73584252701,
                    61354.58592246565,
                    61366.32372367889,
                    61469.74786855499,
                    61283.86110113427,
                    61152.799784161485,
                    61237.226316436354,
                    62502.97542405068,
                    62794.042756009745,
                    62197.351888171965,
                    62300.31881604912,
                    62256.91734720893,
                    61503.29215640341,
                    62013.35699948383,
                    62776.701748781554,
                    62399.72218540244,
                    62986.52697502022,
                    63582.74422591917,
                    64036.90677872531,
                    64443.5142430213,
                    64091.54037051838,
                    64082.124120838984,
                    67118.89194557608,
                    67043.10092795128,
                    66574.91134847623,
                    66221.45107180493,
                    65410.122771091075,
                    66424.67425933438,
                    65145.76732268202,
                    63295.47788271768,
                    66318.12739285495,
                    62885.52513575524,
                    63432.24380655205,
                    63901.74733648885,
                    63886.66082306582,
                    61457.285723850015,
                    62978.45769658165,
                    61239.070140796415,
                    61314.439728641475,
                    61396.01994290108,
                    61899.45106436194,
                    61735.65778106539,
                    60961.74270436763,
                    61572.14043422243,
                    61478.36857599512,
                    61177.390706994294,
                    60531.78422608048,
                    60320.656314553424,
                    61532.71940330785,
                    62310.93042741927,
                    62470.149147100165,
                    63080.55062001406,
                    63683.56563055486,
                    63917.434158466596,
                    63038.34165270857,
                    63267.16370437168,
                    63152.56975969164,
                    63238.22586208257,
                    63021.60661507245,
                    62880.525104014145,
                    63333.08327548281,
                    62353.96256245295
                  ],
                  "low": [
                    43336.861233242744,
                    43882.536137861796,
                    43677.96800249918,
                    43218.74528102141,
                    43035.04085986516,
                    43087.02144443022,
                    42247.355729006355,
                    42309.728165879606,
                    41829.57624783148,
                    41669.462613901844,
                    41305.53998000157,
                    41586.0279658699,
                    41002.93401404471,
                    42309.354527304415,
                    42378.51213510564,
                    42133.789242407765,
                    41246.0865803338,
                    41313.87205861029,
                    41680.50140291387,
                    43542.50686641782,
                    43009.10388472775,
                    43072.11476230965,
                    43031.06345046578,
                    41252.22943860389,
                    43423.91670029305,
                    43609.43970546895,
                    44879.20383799006,
                    47030.86256089408,
                    47340.337056571654,
                    43429.26475291727,
                    47814.76120872627,
                    47593.596837802856,
                    47723.97624529692,
                    47813.85652759501,
                    47963.269499733186,
                    48080.04804970277,
                    47361.10057553545,
                    48004.992526129674,
                    47895.10355723551,
                    48051.37481812014,
                    47992.3604439778,
                    48160.43528555355,
                    47808.09097671579,
                    47614.695742642965,
                    47671.673253150475,
                    47227.376386303695,
                    47716.81922305467,
                    47929.256898435306,
                    49260.232321130694,
                    49265.50183472966,
                    49576.126439998065,
                    49931.82921179024,
                    49881.951708341956,
                    48982.00003341701,
                    51327.08002148958,
                    51416.66339117126,
                    50715.56783120456,
                    51397.03626279526,
                    54579.87512893516,
                    51452.5946873283,
                    55010.85173840232,
                    54575.26808341444,
                    54040.90370561785,
                    53701.37704643536,
                    54024.79510261018,
                    54057.36043695341,
                    53894.59599452107,
                    53907.68082803605,
                    54858.439050625755,
                    54337.5175196484,
                    54265.42080536691,
                    54006.70031073745,
                    54054.17387516834,
                    54710.746203153045,
                    54785.680340376726,
                    54909.455951015734,
                    54852.53013313931,
                    53957.129698884164,
                    54404.435810342075,
                    55159.558058023154,
                    54974.07315507507,
                    54973.45707344951,
                    55386.86140270077,
                    54707.31426840086,
                    54711.86959664297,
                    56451.686495240814,
                    56376.74743265927,
                    56482.731680701014,
                    57419.70888406115,
                    54803.54571846219,
                    56852.7419209776,
                    56728.063063616726,
                    57035.623518277374,
                    56526.0569479718,
                    55757.81981564693,
                    55492.82188576949,
                    56278.202123164694,
                    55345.10639199069,
                    54767.16169723709,
                    55024.109106847674,
                    56308.07025527521,
                    55555.4326268229,
                    57562.11505900789,
                    57742.028633250935,
                    57516.51462702555,
                    57522.1663736761,
                    57266.12866554944,
                    57123.37491072625,
                    57252.346652182205,
                    59617.65432388181,
                    59218.77413415969,
                    59472.71471873902,
                    60071.532254897545,
                    57587.85466202001,
                    61398.610305123635,
                    61759.1597375938,
                    61611.86559454629,
                    60831.57615866136,
                    60748.52793144714,
                    61136.297485981246,
                    61126.569839145115,
                    60909.370116300415,
                    60607.334489729226,
                    61049.943694977694,
                    60759.042894882194,
                    59902.95672683597,
                    61583.77443961336,
                    62355.1379933733,
                    60875.19259176133,
                    60565.34508162485,
                    61908.71770593337,
                    59498.5883413694,
                    61841.61159752708,
                    62219.61112449002,
                    62216.66562348194,
                    62185.18126143529,
                    62495.718542193485,
                    61291.182960356666,
                    63816.43209858427,
                    63753.89685455743,
                    63830.571689433105,
                    63909.74186826177,
                    66672.13400509492,
                    64051.897434606595,
                    65217.46778635179,
                    64577.41280561134,
                    65279.769805195065,
                    63880.41820228637,
                    62763.591946599,
                    62705.1372884289,
                    62178.64108486043,
                    62856.09947125461,
                    63464.02620505812,
                    61973.560511881915,
                    60768.8842133217,
                    60981.4843634978,
                    61001.2763299747,
                    61266.134320194906,
                    60515.63790706662,
                    61435.43933450337,
                    61290.72865524647,
                    60405.151363152625,
                    61211.75858018381,
                    61081.11197034002,
                    60888.9278409195,
                    60171.631919271116,
                    60182.8088390515,
                    60560.56493099557,
                    61119.93510737243,
                    62114.76416533854,
                    62990.953666070454,
                    62864.30845065114,
                    63355.17536492092,
                    60921.603746009736,
                    63033.62005766051,
                    62674.67408742275,
                    62930.16716707974,
                    61972.93260624749,
                    62191.38059707892,
                    62281.46780826973,
                    62353.96256245295
                  ],
                  "open": [
                    43336.861233242744,
                    44034.18161990108,
                    43868.71407724252,
                    43885.59033202141,
                    43333.76073850151,
                    43673.57143121867,
                    42247.355729006355,
                    42689.76255129124,
                    41841.07809270763,
                    42143.92782447996,
                    41581.508090169904,
                    42837.08386156408,
                    41002.93401404471,
                    42309.354527304415,
                    42590.87653476375,
                    42520.29931588971,
                    41745.724733104624,
                    41902.98469266949,
                    41680.50140291387,
                    43615.75845419041,
                    43368.454032502224,
                    43082.88084448121,
                    43031.06345046578,
                    41252.22943860389,
                    43859.32614724109,
                    43609.43970546895,
                    44879.20383799006,
                    47600.68697024634,
                    47340.337056571654,
                    43429.26475291727,
                    48181.87627260008,
                    47593.596837802856,
                    47886.48327296254,
                    47813.85652759501,
                    47997.20044641973,
                    48080.04804970277,
                    47862.63317597535,
                    48004.992526129674,
                    47974.37087127018,
                    48062.00110800723,
                    47992.3604439778,
                    48160.43528555355,
                    48282.97113857447,
                    47614.695742642965,
                    47943.075051997424,
                    47753.57414535296,
                    47716.81922305467,
                    48679.382134571795,
                    49260.232321130694,
                    49313.33486597352,
                    49576.126439998065,
                    49936.7619667859,
                    49881.951708341956,
                    49126.50177136639,
                    51618.141351150036,
                    51652.03871960087,
                    51556.79273951564,
                    51397.03626279526,
                    55010.99199463939,
                    51452.5946873283,
                    55348.36545619193,
                    54999.43157934825,
                    54739.64443785246,
                    54477.63102483852,
                    54070.42332727737,
                    55036.1233087941,
                    53894.59599452107,
                    53907.68082803605,
                    54858.439050625755,
                    55326.07105743581,
                    54265.42080536691,
                    54250.8138194203,
                    54054.17387516834,
                    54729.578501610384,
                    55021.988199721614,
                    54909.455951015734,
                    54986.55316912319,
                    53957.129698884164,
                    55125.460337680444,
                    55159.558058023154,
                    55661.47500521174,
                    55252.20472912269,
                    55494.336544198326,
                    54707.31426840086,
                    54711.86959664297,
                    56777.81766417929,
                    56854.26223126716,
                    56482.731680701014,
                    57641.05605462613,
                    55164.192206604006,
                    57572.510855596534,
                    56728.063063616726,
                    57529.00359242051,
                    57476.752586966104,
                    56218.01924425072,
                    57489.53439910401,
                    56278.202123164694,
                    56446.48850733228,
                    54864.255005136656,
                    55358.05427836911,
                    56308.07025527521,
                    55555.4326268229,
                    57562.11505900789,
                    58185.38587954407,
                    57522.20802162228,
                    57766.135694443685,
                    57380.34137283422,
                    57123.37491072625,
                    57452.43178503547,
                    59643.432753212655,
                    59474.79250966095,
                    59472.71471873902,
                    60071.532254897545,
                    57587.85466202001,
                    61809.02394427028,
                    61759.1597375938,
                    61927.230094722705,
                    61887.53897487175,
                    61157.171771070025,
                    62688.73584252701,
                    61126.569839145115,
                    61366.32372367889,
                    60607.334489729226,
                    61283.86110113427,
                    60759.042894882194,
                    61237.226316436354,
                    61583.77443961336,
                    62355.1379933733,
                    62197.351888171965,
                    61136.80790874031,
                    62256.91734720893,
                    59498.5883413694,
                    62013.35699948383,
                    62776.701748781554,
                    62399.72218540244,
                    62185.18126143529,
                    62495.718542193485,
                    61291.182960356666,
                    64443.5142430213,
                    63900.28180472935,
                    64049.89914515062,
                    63909.74186826177,
                    67043.10092795128,
                    64071.37637300845,
                    66221.45107180493,
                    65410.122771091075,
                    65279.769805195065,
                    64951.015879986175,
                    63295.47788271768,
                    66318.12739285495,
                    62178.64108486043,
                    63432.24380655205,
                    63464.02620505812,
                    63622.14073582218,
                    60819.84469047921,
                    62978.45769658165,
                    61001.2763299747,
                    61314.439728641475,
                    61215.682210472645,
                    61899.45106436194,
                    61735.65778106539,
                    60882.921197883436,
                    61572.14043422243,
                    61478.36857599512,
                    61076.955607014665,
                    60265.27366131045,
                    60243.10740230382,
                    61091.80172807144,
                    61119.93510737243,
                    62282.31420959382,
                    62990.953666070454,
                    63070.90071673478,
                    63893.90672492313,
                    61315.38278642506,
                    63228.21382584213,
                    63152.56975969164,
                    63030.83380541139,
                    63021.60661507245,
                    62880.525104014145,
                    62891.77565942479,
                    62353.96256245295
                  ],
                  "type": "candlestick",
                  "x": [
                    "2021-09-27_1",
                    "2021-09-27_2",
                    "2021-09-27_3",
                    "2021-09-27_4",
                    "2021-09-27_5",
                    "2021-09-27_6",
                    "2021-09-28_1",
                    "2021-09-28_2",
                    "2021-09-28_3",
                    "2021-09-28_4",
                    "2021-09-28_5",
                    "2021-09-28_6",
                    "2021-09-29_1",
                    "2021-09-29_2",
                    "2021-09-29_3",
                    "2021-09-29_4",
                    "2021-09-29_5",
                    "2021-09-29_6",
                    "2021-09-30_1",
                    "2021-09-30_2",
                    "2021-09-30_3",
                    "2021-09-30_4",
                    "2021-09-30_5",
                    "2021-09-30_6",
                    "2021-10-01_1",
                    "2021-10-01_2",
                    "2021-10-01_3",
                    "2021-10-01_4",
                    "2021-10-01_5",
                    "2021-10-01_6",
                    "2021-10-02_1",
                    "2021-10-02_2",
                    "2021-10-02_3",
                    "2021-10-02_4",
                    "2021-10-02_5",
                    "2021-10-02_6",
                    "2021-10-03_1",
                    "2021-10-03_2",
                    "2021-10-03_3",
                    "2021-10-03_4",
                    "2021-10-03_5",
                    "2021-10-03_6",
                    "2021-10-04_1",
                    "2021-10-04_2",
                    "2021-10-04_3",
                    "2021-10-04_4",
                    "2021-10-04_5",
                    "2021-10-04_6",
                    "2021-10-05_1",
                    "2021-10-05_2",
                    "2021-10-05_3",
                    "2021-10-05_4",
                    "2021-10-05_5",
                    "2021-10-05_6",
                    "2021-10-06_1",
                    "2021-10-06_2",
                    "2021-10-06_3",
                    "2021-10-06_4",
                    "2021-10-06_5",
                    "2021-10-06_6",
                    "2021-10-07_1",
                    "2021-10-07_2",
                    "2021-10-07_3",
                    "2021-10-07_4",
                    "2021-10-07_5",
                    "2021-10-07_6",
                    "2021-10-08_1",
                    "2021-10-08_2",
                    "2021-10-08_3",
                    "2021-10-08_4",
                    "2021-10-08_5",
                    "2021-10-08_6",
                    "2021-10-09_1",
                    "2021-10-09_2",
                    "2021-10-09_3",
                    "2021-10-09_4",
                    "2021-10-09_5",
                    "2021-10-09_6",
                    "2021-10-10_1",
                    "2021-10-10_2",
                    "2021-10-10_3",
                    "2021-10-10_4",
                    "2021-10-10_5",
                    "2021-10-10_6",
                    "2021-10-11_1",
                    "2021-10-11_2",
                    "2021-10-11_3",
                    "2021-10-11_4",
                    "2021-10-11_5",
                    "2021-10-11_6",
                    "2021-10-12_1",
                    "2021-10-12_2",
                    "2021-10-12_3",
                    "2021-10-12_4",
                    "2021-10-12_5",
                    "2021-10-12_6",
                    "2021-10-13_1",
                    "2021-10-13_2",
                    "2021-10-13_3",
                    "2021-10-13_4",
                    "2021-10-13_5",
                    "2021-10-13_6",
                    "2021-10-14_1",
                    "2021-10-14_2",
                    "2021-10-14_3",
                    "2021-10-14_4",
                    "2021-10-14_5",
                    "2021-10-14_6",
                    "2021-10-15_1",
                    "2021-10-15_2",
                    "2021-10-15_3",
                    "2021-10-15_4",
                    "2021-10-15_5",
                    "2021-10-15_6",
                    "2021-10-16_1",
                    "2021-10-16_2",
                    "2021-10-16_3",
                    "2021-10-16_4",
                    "2021-10-16_5",
                    "2021-10-16_6",
                    "2021-10-17_1",
                    "2021-10-17_2",
                    "2021-10-17_3",
                    "2021-10-17_4",
                    "2021-10-17_5",
                    "2021-10-17_6",
                    "2021-10-18_1",
                    "2021-10-18_2",
                    "2021-10-18_3",
                    "2021-10-18_4",
                    "2021-10-18_5",
                    "2021-10-18_6",
                    "2021-10-19_1",
                    "2021-10-19_2",
                    "2021-10-19_3",
                    "2021-10-19_4",
                    "2021-10-19_5",
                    "2021-10-19_6",
                    "2021-10-20_1",
                    "2021-10-20_2",
                    "2021-10-20_3",
                    "2021-10-20_4",
                    "2021-10-20_5",
                    "2021-10-20_6",
                    "2021-10-21_1",
                    "2021-10-21_2",
                    "2021-10-21_3",
                    "2021-10-21_4",
                    "2021-10-21_5",
                    "2021-10-21_6",
                    "2021-10-22_1",
                    "2021-10-22_2",
                    "2021-10-22_3",
                    "2021-10-22_4",
                    "2021-10-22_5",
                    "2021-10-22_6",
                    "2021-10-23_1",
                    "2021-10-23_2",
                    "2021-10-23_3",
                    "2021-10-23_4",
                    "2021-10-23_5",
                    "2021-10-23_6",
                    "2021-10-24_1",
                    "2021-10-24_2",
                    "2021-10-24_3",
                    "2021-10-24_4",
                    "2021-10-24_5",
                    "2021-10-24_6",
                    "2021-10-25_1",
                    "2021-10-25_2",
                    "2021-10-25_3",
                    "2021-10-25_4",
                    "2021-10-25_5",
                    "2021-10-25_6",
                    "2021-10-26_1",
                    "2021-10-26_2",
                    "2021-10-26_3",
                    "2021-10-26_4",
                    "2021-10-26_5",
                    "2021-10-26_6",
                    "2021-10-27_6"
                  ]
                }
              ],
              "layout": {
                "template": {
                  "data": {
                    "bar": [
                      {
                        "error_x": {
                          "color": "#2a3f5f"
                        },
                        "error_y": {
                          "color": "#2a3f5f"
                        },
                        "marker": {
                          "line": {
                            "color": "#E5ECF6",
                            "width": 0.5
                          },
                          "pattern": {
                            "fillmode": "overlay",
                            "size": 10,
                            "solidity": 0.2
                          }
                        },
                        "type": "bar"
                      }
                    ],
                    "barpolar": [
                      {
                        "marker": {
                          "line": {
                            "color": "#E5ECF6",
                            "width": 0.5
                          },
                          "pattern": {
                            "fillmode": "overlay",
                            "size": 10,
                            "solidity": 0.2
                          }
                        },
                        "type": "barpolar"
                      }
                    ],
                    "carpet": [
                      {
                        "aaxis": {
                          "endlinecolor": "#2a3f5f",
                          "gridcolor": "white",
                          "linecolor": "white",
                          "minorgridcolor": "white",
                          "startlinecolor": "#2a3f5f"
                        },
                        "baxis": {
                          "endlinecolor": "#2a3f5f",
                          "gridcolor": "white",
                          "linecolor": "white",
                          "minorgridcolor": "white",
                          "startlinecolor": "#2a3f5f"
                        },
                        "type": "carpet"
                      }
                    ],
                    "choropleth": [
                      {
                        "colorbar": {
                          "outlinewidth": 0,
                          "ticks": ""
                        },
                        "type": "choropleth"
                      }
                    ],
                    "contour": [
                      {
                        "colorbar": {
                          "outlinewidth": 0,
                          "ticks": ""
                        },
                        "colorscale": [
                          [
                            0,
                            "#0d0887"
                          ],
                          [
                            0.1111111111111111,
                            "#46039f"
                          ],
                          [
                            0.2222222222222222,
                            "#7201a8"
                          ],
                          [
                            0.3333333333333333,
                            "#9c179e"
                          ],
                          [
                            0.4444444444444444,
                            "#bd3786"
                          ],
                          [
                            0.5555555555555556,
                            "#d8576b"
                          ],
                          [
                            0.6666666666666666,
                            "#ed7953"
                          ],
                          [
                            0.7777777777777778,
                            "#fb9f3a"
                          ],
                          [
                            0.8888888888888888,
                            "#fdca26"
                          ],
                          [
                            1,
                            "#f0f921"
                          ]
                        ],
                        "type": "contour"
                      }
                    ],
                    "contourcarpet": [
                      {
                        "colorbar": {
                          "outlinewidth": 0,
                          "ticks": ""
                        },
                        "type": "contourcarpet"
                      }
                    ],
                    "heatmap": [
                      {
                        "colorbar": {
                          "outlinewidth": 0,
                          "ticks": ""
                        },
                        "colorscale": [
                          [
                            0,
                            "#0d0887"
                          ],
                          [
                            0.1111111111111111,
                            "#46039f"
                          ],
                          [
                            0.2222222222222222,
                            "#7201a8"
                          ],
                          [
                            0.3333333333333333,
                            "#9c179e"
                          ],
                          [
                            0.4444444444444444,
                            "#bd3786"
                          ],
                          [
                            0.5555555555555556,
                            "#d8576b"
                          ],
                          [
                            0.6666666666666666,
                            "#ed7953"
                          ],
                          [
                            0.7777777777777778,
                            "#fb9f3a"
                          ],
                          [
                            0.8888888888888888,
                            "#fdca26"
                          ],
                          [
                            1,
                            "#f0f921"
                          ]
                        ],
                        "type": "heatmap"
                      }
                    ],
                    "heatmapgl": [
                      {
                        "colorbar": {
                          "outlinewidth": 0,
                          "ticks": ""
                        },
                        "colorscale": [
                          [
                            0,
                            "#0d0887"
                          ],
                          [
                            0.1111111111111111,
                            "#46039f"
                          ],
                          [
                            0.2222222222222222,
                            "#7201a8"
                          ],
                          [
                            0.3333333333333333,
                            "#9c179e"
                          ],
                          [
                            0.4444444444444444,
                            "#bd3786"
                          ],
                          [
                            0.5555555555555556,
                            "#d8576b"
                          ],
                          [
                            0.6666666666666666,
                            "#ed7953"
                          ],
                          [
                            0.7777777777777778,
                            "#fb9f3a"
                          ],
                          [
                            0.8888888888888888,
                            "#fdca26"
                          ],
                          [
                            1,
                            "#f0f921"
                          ]
                        ],
                        "type": "heatmapgl"
                      }
                    ],
                    "histogram": [
                      {
                        "marker": {
                          "pattern": {
                            "fillmode": "overlay",
                            "size": 10,
                            "solidity": 0.2
                          }
                        },
                        "type": "histogram"
                      }
                    ],
                    "histogram2d": [
                      {
                        "colorbar": {
                          "outlinewidth": 0,
                          "ticks": ""
                        },
                        "colorscale": [
                          [
                            0,
                            "#0d0887"
                          ],
                          [
                            0.1111111111111111,
                            "#46039f"
                          ],
                          [
                            0.2222222222222222,
                            "#7201a8"
                          ],
                          [
                            0.3333333333333333,
                            "#9c179e"
                          ],
                          [
                            0.4444444444444444,
                            "#bd3786"
                          ],
                          [
                            0.5555555555555556,
                            "#d8576b"
                          ],
                          [
                            0.6666666666666666,
                            "#ed7953"
                          ],
                          [
                            0.7777777777777778,
                            "#fb9f3a"
                          ],
                          [
                            0.8888888888888888,
                            "#fdca26"
                          ],
                          [
                            1,
                            "#f0f921"
                          ]
                        ],
                        "type": "histogram2d"
                      }
                    ],
                    "histogram2dcontour": [
                      {
                        "colorbar": {
                          "outlinewidth": 0,
                          "ticks": ""
                        },
                        "colorscale": [
                          [
                            0,
                            "#0d0887"
                          ],
                          [
                            0.1111111111111111,
                            "#46039f"
                          ],
                          [
                            0.2222222222222222,
                            "#7201a8"
                          ],
                          [
                            0.3333333333333333,
                            "#9c179e"
                          ],
                          [
                            0.4444444444444444,
                            "#bd3786"
                          ],
                          [
                            0.5555555555555556,
                            "#d8576b"
                          ],
                          [
                            0.6666666666666666,
                            "#ed7953"
                          ],
                          [
                            0.7777777777777778,
                            "#fb9f3a"
                          ],
                          [
                            0.8888888888888888,
                            "#fdca26"
                          ],
                          [
                            1,
                            "#f0f921"
                          ]
                        ],
                        "type": "histogram2dcontour"
                      }
                    ],
                    "mesh3d": [
                      {
                        "colorbar": {
                          "outlinewidth": 0,
                          "ticks": ""
                        },
                        "type": "mesh3d"
                      }
                    ],
                    "parcoords": [
                      {
                        "line": {
                          "colorbar": {
                            "outlinewidth": 0,
                            "ticks": ""
                          }
                        },
                        "type": "parcoords"
                      }
                    ],
                    "pie": [
                      {
                        "automargin": true,
                        "type": "pie"
                      }
                    ],
                    "scatter": [
                      {
                        "marker": {
                          "colorbar": {
                            "outlinewidth": 0,
                            "ticks": ""
                          }
                        },
                        "type": "scatter"
                      }
                    ],
                    "scatter3d": [
                      {
                        "line": {
                          "colorbar": {
                            "outlinewidth": 0,
                            "ticks": ""
                          }
                        },
                        "marker": {
                          "colorbar": {
                            "outlinewidth": 0,
                            "ticks": ""
                          }
                        },
                        "type": "scatter3d"
                      }
                    ],
                    "scattercarpet": [
                      {
                        "marker": {
                          "colorbar": {
                            "outlinewidth": 0,
                            "ticks": ""
                          }
                        },
                        "type": "scattercarpet"
                      }
                    ],
                    "scattergeo": [
                      {
                        "marker": {
                          "colorbar": {
                            "outlinewidth": 0,
                            "ticks": ""
                          }
                        },
                        "type": "scattergeo"
                      }
                    ],
                    "scattergl": [
                      {
                        "marker": {
                          "colorbar": {
                            "outlinewidth": 0,
                            "ticks": ""
                          }
                        },
                        "type": "scattergl"
                      }
                    ],
                    "scattermapbox": [
                      {
                        "marker": {
                          "colorbar": {
                            "outlinewidth": 0,
                            "ticks": ""
                          }
                        },
                        "type": "scattermapbox"
                      }
                    ],
                    "scatterpolar": [
                      {
                        "marker": {
                          "colorbar": {
                            "outlinewidth": 0,
                            "ticks": ""
                          }
                        },
                        "type": "scatterpolar"
                      }
                    ],
                    "scatterpolargl": [
                      {
                        "marker": {
                          "colorbar": {
                            "outlinewidth": 0,
                            "ticks": ""
                          }
                        },
                        "type": "scatterpolargl"
                      }
                    ],
                    "scatterternary": [
                      {
                        "marker": {
                          "colorbar": {
                            "outlinewidth": 0,
                            "ticks": ""
                          }
                        },
                        "type": "scatterternary"
                      }
                    ],
                    "surface": [
                      {
                        "colorbar": {
                          "outlinewidth": 0,
                          "ticks": ""
                        },
                        "colorscale": [
                          [
                            0,
                            "#0d0887"
                          ],
                          [
                            0.1111111111111111,
                            "#46039f"
                          ],
                          [
                            0.2222222222222222,
                            "#7201a8"
                          ],
                          [
                            0.3333333333333333,
                            "#9c179e"
                          ],
                          [
                            0.4444444444444444,
                            "#bd3786"
                          ],
                          [
                            0.5555555555555556,
                            "#d8576b"
                          ],
                          [
                            0.6666666666666666,
                            "#ed7953"
                          ],
                          [
                            0.7777777777777778,
                            "#fb9f3a"
                          ],
                          [
                            0.8888888888888888,
                            "#fdca26"
                          ],
                          [
                            1,
                            "#f0f921"
                          ]
                        ],
                        "type": "surface"
                      }
                    ],
                    "table": [
                      {
                        "cells": {
                          "fill": {
                            "color": "#EBF0F8"
                          },
                          "line": {
                            "color": "white"
                          }
                        },
                        "header": {
                          "fill": {
                            "color": "#C8D4E3"
                          },
                          "line": {
                            "color": "white"
                          }
                        },
                        "type": "table"
                      }
                    ]
                  },
                  "layout": {
                    "annotationdefaults": {
                      "arrowcolor": "#2a3f5f",
                      "arrowhead": 0,
                      "arrowwidth": 1
                    },
                    "autotypenumbers": "strict",
                    "coloraxis": {
                      "colorbar": {
                        "outlinewidth": 0,
                        "ticks": ""
                      }
                    },
                    "colorscale": {
                      "diverging": [
                        [
                          0,
                          "#8e0152"
                        ],
                        [
                          0.1,
                          "#c51b7d"
                        ],
                        [
                          0.2,
                          "#de77ae"
                        ],
                        [
                          0.3,
                          "#f1b6da"
                        ],
                        [
                          0.4,
                          "#fde0ef"
                        ],
                        [
                          0.5,
                          "#f7f7f7"
                        ],
                        [
                          0.6,
                          "#e6f5d0"
                        ],
                        [
                          0.7,
                          "#b8e186"
                        ],
                        [
                          0.8,
                          "#7fbc41"
                        ],
                        [
                          0.9,
                          "#4d9221"
                        ],
                        [
                          1,
                          "#276419"
                        ]
                      ],
                      "sequential": [
                        [
                          0,
                          "#0d0887"
                        ],
                        [
                          0.1111111111111111,
                          "#46039f"
                        ],
                        [
                          0.2222222222222222,
                          "#7201a8"
                        ],
                        [
                          0.3333333333333333,
                          "#9c179e"
                        ],
                        [
                          0.4444444444444444,
                          "#bd3786"
                        ],
                        [
                          0.5555555555555556,
                          "#d8576b"
                        ],
                        [
                          0.6666666666666666,
                          "#ed7953"
                        ],
                        [
                          0.7777777777777778,
                          "#fb9f3a"
                        ],
                        [
                          0.8888888888888888,
                          "#fdca26"
                        ],
                        [
                          1,
                          "#f0f921"
                        ]
                      ],
                      "sequentialminus": [
                        [
                          0,
                          "#0d0887"
                        ],
                        [
                          0.1111111111111111,
                          "#46039f"
                        ],
                        [
                          0.2222222222222222,
                          "#7201a8"
                        ],
                        [
                          0.3333333333333333,
                          "#9c179e"
                        ],
                        [
                          0.4444444444444444,
                          "#bd3786"
                        ],
                        [
                          0.5555555555555556,
                          "#d8576b"
                        ],
                        [
                          0.6666666666666666,
                          "#ed7953"
                        ],
                        [
                          0.7777777777777778,
                          "#fb9f3a"
                        ],
                        [
                          0.8888888888888888,
                          "#fdca26"
                        ],
                        [
                          1,
                          "#f0f921"
                        ]
                      ]
                    },
                    "colorway": [
                      "#636efa",
                      "#EF553B",
                      "#00cc96",
                      "#ab63fa",
                      "#FFA15A",
                      "#19d3f3",
                      "#FF6692",
                      "#B6E880",
                      "#FF97FF",
                      "#FECB52"
                    ],
                    "font": {
                      "color": "#2a3f5f"
                    },
                    "geo": {
                      "bgcolor": "white",
                      "lakecolor": "white",
                      "landcolor": "#E5ECF6",
                      "showlakes": true,
                      "showland": true,
                      "subunitcolor": "white"
                    },
                    "hoverlabel": {
                      "align": "left"
                    },
                    "hovermode": "closest",
                    "mapbox": {
                      "style": "light"
                    },
                    "paper_bgcolor": "white",
                    "plot_bgcolor": "#E5ECF6",
                    "polar": {
                      "angularaxis": {
                        "gridcolor": "white",
                        "linecolor": "white",
                        "ticks": ""
                      },
                      "bgcolor": "#E5ECF6",
                      "radialaxis": {
                        "gridcolor": "white",
                        "linecolor": "white",
                        "ticks": ""
                      }
                    },
                    "scene": {
                      "xaxis": {
                        "backgroundcolor": "#E5ECF6",
                        "gridcolor": "white",
                        "gridwidth": 2,
                        "linecolor": "white",
                        "showbackground": true,
                        "ticks": "",
                        "zerolinecolor": "white"
                      },
                      "yaxis": {
                        "backgroundcolor": "#E5ECF6",
                        "gridcolor": "white",
                        "gridwidth": 2,
                        "linecolor": "white",
                        "showbackground": true,
                        "ticks": "",
                        "zerolinecolor": "white"
                      },
                      "zaxis": {
                        "backgroundcolor": "#E5ECF6",
                        "gridcolor": "white",
                        "gridwidth": 2,
                        "linecolor": "white",
                        "showbackground": true,
                        "ticks": "",
                        "zerolinecolor": "white"
                      }
                    },
                    "shapedefaults": {
                      "line": {
                        "color": "#2a3f5f"
                      }
                    },
                    "ternary": {
                      "aaxis": {
                        "gridcolor": "white",
                        "linecolor": "white",
                        "ticks": ""
                      },
                      "baxis": {
                        "gridcolor": "white",
                        "linecolor": "white",
                        "ticks": ""
                      },
                      "bgcolor": "#E5ECF6",
                      "caxis": {
                        "gridcolor": "white",
                        "linecolor": "white",
                        "ticks": ""
                      }
                    },
                    "title": {
                      "x": 0.05
                    },
                    "xaxis": {
                      "automargin": true,
                      "gridcolor": "white",
                      "linecolor": "white",
                      "ticks": "",
                      "title": {
                        "standoff": 15
                      },
                      "zerolinecolor": "white",
                      "zerolinewidth": 2
                    },
                    "yaxis": {
                      "automargin": true,
                      "gridcolor": "white",
                      "linecolor": "white",
                      "ticks": "",
                      "title": {
                        "standoff": 15
                      },
                      "zerolinecolor": "white",
                      "zerolinewidth": 2
                    }
                  }
                },
                "xaxis": {
                  "rangeslider": {
                    "visible": false
                  }
                }
              }
            }
          },
          "metadata": {},
          "output_type": "display_data"
        }
      ],
      "source": [
        "fig = go.Figure(data=[go.Candlestick(x=candlestick_data_H4['H4_date'],\n",
        "                open=candlestick_data_H4['Price']['first'], \n",
        "                high=candlestick_data_H4['Price']['max'],\n",
        "                low=candlestick_data_H4['Price']['min'], \n",
        "                close=candlestick_data_H4['Price']['last'])\n",
        "                ])\n",
        "\n",
        "fig.update_layout(xaxis_rangeslider_visible=False)\n",
        "\n",
        "fig.show()"
      ]
    }
  ],
  "metadata": {
    "colab": {
      "authorship_tag": "ABX9TyPEZjfQNJw8yxSMD9F4InrK",
      "include_colab_link": true,
      "name": "pycoingecko_with_candlechart.ipynb",
      "provenance": []
    },
    "interpreter": {
      "hash": "0e9ab33fad9a82e225dd0034dfc97c22317b31e04d2a1655a43434c9d7055a8f"
    },
    "kernelspec": {
      "display_name": "Python 3.7.3 64-bit ('base': conda)",
      "name": "python3"
    },
    "language_info": {
      "codemirror_mode": {
        "name": "ipython",
        "version": 3
      },
      "file_extension": ".py",
      "mimetype": "text/x-python",
      "name": "python",
      "nbconvert_exporter": "python",
      "pygments_lexer": "ipython3",
      "version": "3.7.3"
    }
  },
  "nbformat": 4,
  "nbformat_minor": 0
}
